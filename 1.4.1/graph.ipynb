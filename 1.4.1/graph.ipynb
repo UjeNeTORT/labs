{
 "cells": [
  {
   "cell_type": "markdown",
   "metadata": {},
   "source": [
    "# Работа 1.4.1. Изучение колебаний физического маятника\n",
    "----\n",
    "----\n"
   ]
  },
  {
   "cell_type": "markdown",
   "metadata": {},
   "source": [
    "## Цель работы и оборудование\n",
    "--------"
   ]
  },
  {
   "cell_type": "markdown",
   "metadata": {},
   "source": [
    "### Цель"
   ]
  },
  {
   "cell_type": "markdown",
   "metadata": {},
   "source": [
    "1) проверить справедливость формулы для периода колебаний физического маятника и определить значение ускорения свободного падения\n",
    "2) оценить погрешность прямых и косвенных измерений и конечного результата"
   ]
  },
  {
   "cell_type": "markdown",
   "metadata": {},
   "source": [
    "### Оборудование"
   ]
  },
  {
   "cell_type": "markdown",
   "metadata": {},
   "source": [
    "металлический стержень с опорной призмой, дополнительный груз, закреплённая на стене консоль, подставка с острой гранью для определения цента масс маятника, электронный счётчик колебаний, линейки металлические различной длины, штангенциркуль, электронные весы"
   ]
  },
  {
   "cell_type": "markdown",
   "metadata": {},
   "source": [
    "## Ход работы"
   ]
  },
  {
   "cell_type": "markdown",
   "metadata": {},
   "source": [
    "----------"
   ]
  },
  {
   "cell_type": "code",
   "execution_count": 34,
   "metadata": {},
   "outputs": [],
   "source": [
    "# Импортируем библиотеки\n",
    "import matplotlib.pyplot as plt\n",
    "import numpy             as np\n",
    "import pandas            as pd\n"
   ]
  },
  {
   "cell_type": "markdown",
   "metadata": {},
   "source": [
    "### Предварительное вычисление g по колебанию маятника без прикрепленной массы"
   ]
  },
  {
   "cell_type": "code",
   "execution_count": 35,
   "metadata": {},
   "outputs": [],
   "source": [
    "a = 0.245 # (м) расстояние от центра стержня до точки подвеса\n",
    "l = 1     # (м) длина стержня\n"
   ]
  },
  {
   "cell_type": "markdown",
   "metadata": {},
   "source": [
    "Измерим время t, за которое маятник без груза совершит n колебаний  \n",
    "Получим период T_no_mass по формуле:  \n",
    "\n",
    "$$ T = \\frac{t}{n} $$"
   ]
  },
  {
   "cell_type": "code",
   "execution_count": 36,
   "metadata": {},
   "outputs": [
    {
     "data": {
      "text/plain": [
       "1.5365"
      ]
     },
     "execution_count": 36,
     "metadata": {},
     "output_type": "execute_result"
    }
   ],
   "source": [
    "t_no_mass = 30.73\n",
    "n = 20\n",
    "T_no_mass = t_no_mass/n\n",
    "T_no_mass\n"
   ]
  },
  {
   "cell_type": "markdown",
   "metadata": {},
   "source": [
    "$$ T = 2 \\pi \\sqrt{\\frac{l^{2}/12 + a^{2}}{ga}}"
   ]
  },
  {
   "cell_type": "markdown",
   "metadata": {},
   "source": [
    "$$ g = 4 \\pi^{2} \\frac{l^{2}/12 + a^{2}}{T^{2}a} $$"
   ]
  },
  {
   "cell_type": "code",
   "execution_count": 37,
   "metadata": {},
   "outputs": [
    {
     "data": {
      "text/plain": [
       "9.784789034387599"
      ]
     },
     "execution_count": 37,
     "metadata": {},
     "output_type": "execute_result"
    }
   ],
   "source": [
    "g_no_mass = 4 * (np.pi ** 2) * ((l**2) / 12 + a**2) / ((T_no_mass**2) * a)\n",
    "g_no_mass\n"
   ]
  },
  {
   "cell_type": "markdown",
   "metadata": {},
   "source": [
    "#### Погрешности\n"
   ]
  },
  {
   "cell_type": "markdown",
   "metadata": {},
   "source": [
    "Погрешность вычисления времени равна (цена деления секундомера)\n",
    "$$ \\sigma_{t} = 0.01 \\text{с}$$    \n",
    "\n",
    "Погрешность измерения длины (2 цены деления линейки, так как не были зафиксированы ни правый ни левый концы)\n",
    "$$ \\sigma_{l} = 0.002 \\text{м} $$"
   ]
  },
  {
   "cell_type": "code",
   "execution_count": 38,
   "metadata": {},
   "outputs": [
    {
     "data": {
      "text/plain": [
       "0.0005"
      ]
     },
     "execution_count": 38,
     "metadata": {},
     "output_type": "execute_result"
    }
   ],
   "source": [
    "delta_t = 0.01 # (c)\n",
    "sigma_T_no_mass = delta_t / n\n",
    "sigma_T_no_mass\n"
   ]
  },
  {
   "cell_type": "markdown",
   "metadata": {},
   "source": [
    "$\\sigma_{T} = 0.0005 ~c$"
   ]
  },
  {
   "cell_type": "code",
   "execution_count": 39,
   "metadata": {},
   "outputs": [],
   "source": [
    "sigma_l = 0.002 # (м) погрешность измерения длины\n"
   ]
  },
  {
   "cell_type": "markdown",
   "metadata": {},
   "source": [
    "Вычислим погрешность g_no_mass:\n",
    "\n",
    "$$ \\sigma_{g} = 4\\pi^{2} \\sqrt{ (\\frac{l}{6T^{2}a}\\sigma_{l})^{2} + (-\\frac{l^{2}}{12 T^{2} a^{2}}\\sigma_{a} + \\frac{1}{T^{2}}\\sigma_{a})^{2} + (-2\\frac{l^{2}/12 + a^{2}}{T^{3}a} \\sigma_{T})^{2}}$$"
   ]
  },
  {
   "cell_type": "markdown",
   "metadata": {},
   "source": [
    "$\\sigma_{a} = \\sigma_{l}$ \n",
    "т к измерялись одинаково"
   ]
  },
  {
   "cell_type": "code",
   "execution_count": 40,
   "metadata": {},
   "outputs": [
    {
     "data": {
      "text/plain": [
       "0.026959908799765498"
      ]
     },
     "execution_count": 40,
     "metadata": {},
     "output_type": "execute_result"
    }
   ],
   "source": [
    "first_bracket = sigma_l * l / (6 * T_no_mass**2 * a)\n",
    "\n",
    "second_bracket = sigma_l * (1/T_no_mass**2 - l**2 / (12 * (T_no_mass**2)*(a**2)))\n",
    "\n",
    "third_bracket = sigma_T_no_mass * 2 * ((l**2) / 12 + (a**2)) / ((T_no_mass**3) * a)\n",
    "\n",
    "sigma_g_no_mass = 4 * np.pi**2 * np.sqrt( (first_bracket) ** 2 + (second_bracket) ** 2 + (third_bracket) ** 2 )\n",
    "\n",
    "sigma_g_no_mass\n"
   ]
  },
  {
   "cell_type": "markdown",
   "metadata": {},
   "source": [
    "$\\sigma_{g} = 0.0270$ м / $с^{2}$"
   ]
  },
  {
   "cell_type": "code",
   "execution_count": 41,
   "metadata": {},
   "outputs": [
    {
     "data": {
      "text/plain": [
       "0.2755287692459978"
      ]
     },
     "execution_count": 41,
     "metadata": {},
     "output_type": "execute_result"
    }
   ],
   "source": [
    "epsilon_g = sigma_g_no_mass / g_no_mass * 100\n",
    "epsilon_g\n"
   ]
  },
  {
   "cell_type": "markdown",
   "metadata": {},
   "source": [
    "Получаем g:  \n",
    "$$ g = 9.785 \\pm 0.027 ~\\text{м} / c^{2} (\\epsilon_{g} \\approx 0.28 \\%)$$"
   ]
  },
  {
   "cell_type": "markdown",
   "metadata": {},
   "source": [
    "### Снятие измерений и выявление теоретической зависимости"
   ]
  },
  {
   "cell_type": "markdown",
   "metadata": {},
   "source": [
    "<img src=\"ustanovka.png\" alt=\"Alternative text\" />\n",
    "<p>Маятник с дополнительным грузом"
   ]
  },
  {
   "cell_type": "markdown",
   "metadata": {},
   "source": [
    "Для каждого измерения мы знаем:  \n",
    "y     - расстояние от призмы до начала груза  \n",
    "y ист - расстояние от призмы до центра груза  \n",
    "xц    - расстояние от призмы до центра масс маятника без груза  \n",
    "n     - число совершенных колебаний  \n",
    "T     - время, за которое было совершено n колебаний  \n",
    "J0    - момент инерции маятника  \n",
    "mг    - масса груза  \n"
   ]
  },
  {
   "cell_type": "markdown",
   "metadata": {},
   "source": [
    "Новая погрешность измерения длины складывается из инструментальной погрешности и погрешности метода (длина измерялась длинной линейкой на весу, линейку было невозможно приложить к стержню вплотную изза стержня и груза)  \n",
    "$$ \\sigma_{l} = 0.002 + 0.005 = 0.007 ~\\text{м} $$"
   ]
  },
  {
   "cell_type": "code",
   "execution_count": 42,
   "metadata": {},
   "outputs": [
    {
     "data": {
      "text/plain": [
       "0.005385164807134504"
      ]
     },
     "execution_count": 42,
     "metadata": {},
     "output_type": "execute_result"
    }
   ],
   "source": [
    "sigma_l = np.sqrt(0.002**2 + 0.005**2)\n",
    "sigma_l\n",
    "# TODO\n"
   ]
  },
  {
   "cell_type": "markdown",
   "metadata": {},
   "source": [
    "\n",
    "При известном g, T вычисляется по формуле:\n",
    "\n",
    "\\begin{equation}\n",
    "T = 2\\pi\\sqrt{\\frac{J_0 + m_{\\text{г}}y^2}{gMx_{\\text{ц}}}},\n",
    "\\end{equation}\n",
    "\n",
    "$$ M = m_{\\text{пр}} + m_{0} $$\n",
    "$$ J_{0} = \\frac{m_{0} l^{2}}{12} + m_{0} a^{2} $$\n"
   ]
  },
  {
   "cell_type": "markdown",
   "metadata": {},
   "source": [
    "$$ g = 4\\pi^{2} \\frac{J_{0} + m_{\\text{г}} y^{2}}{T^{2} M x_{\\text{ц}}}$$"
   ]
  },
  {
   "cell_type": "markdown",
   "metadata": {},
   "source": [
    "#### Загрузка данных измерений"
   ]
  },
  {
   "cell_type": "code",
   "execution_count": 43,
   "metadata": {},
   "outputs": [
    {
     "data": {
      "text/html": [
       "<div>\n",
       "<style scoped>\n",
       "    .dataframe tbody tr th:only-of-type {\n",
       "        vertical-align: middle;\n",
       "    }\n",
       "\n",
       "    .dataframe tbody tr th {\n",
       "        vertical-align: top;\n",
       "    }\n",
       "\n",
       "    .dataframe thead th {\n",
       "        text-align: right;\n",
       "    }\n",
       "</style>\n",
       "<table border=\"1\" class=\"dataframe\">\n",
       "  <thead>\n",
       "    <tr style=\"text-align: right;\">\n",
       "      <th></th>\n",
       "      <th>y, м</th>\n",
       "      <th>y ист, м</th>\n",
       "      <th>Xц, м</th>\n",
       "      <th>t, c</th>\n",
       "      <th>n.1</th>\n",
       "      <th>T, с</th>\n",
       "    </tr>\n",
       "  </thead>\n",
       "  <tbody>\n",
       "    <tr>\n",
       "      <th>0</th>\n",
       "      <td>0.499</td>\n",
       "      <td>0.508</td>\n",
       "      <td>0.295</td>\n",
       "      <td>44.76</td>\n",
       "      <td>30</td>\n",
       "      <td>1.492000</td>\n",
       "    </tr>\n",
       "    <tr>\n",
       "      <th>1</th>\n",
       "      <td>0.468</td>\n",
       "      <td>0.477</td>\n",
       "      <td>0.285</td>\n",
       "      <td>44.27</td>\n",
       "      <td>30</td>\n",
       "      <td>1.475667</td>\n",
       "    </tr>\n",
       "    <tr>\n",
       "      <th>2</th>\n",
       "      <td>0.439</td>\n",
       "      <td>0.448</td>\n",
       "      <td>0.279</td>\n",
       "      <td>43.88</td>\n",
       "      <td>30</td>\n",
       "      <td>1.462667</td>\n",
       "    </tr>\n",
       "    <tr>\n",
       "      <th>3</th>\n",
       "      <td>0.411</td>\n",
       "      <td>0.420</td>\n",
       "      <td>0.271</td>\n",
       "      <td>43.49</td>\n",
       "      <td>30</td>\n",
       "      <td>1.449667</td>\n",
       "    </tr>\n",
       "    <tr>\n",
       "      <th>4</th>\n",
       "      <td>0.380</td>\n",
       "      <td>0.389</td>\n",
       "      <td>0.265</td>\n",
       "      <td>43.16</td>\n",
       "      <td>30</td>\n",
       "      <td>1.438667</td>\n",
       "    </tr>\n",
       "    <tr>\n",
       "      <th>5</th>\n",
       "      <td>0.350</td>\n",
       "      <td>0.359</td>\n",
       "      <td>0.257</td>\n",
       "      <td>42.89</td>\n",
       "      <td>30</td>\n",
       "      <td>1.429667</td>\n",
       "    </tr>\n",
       "    <tr>\n",
       "      <th>6</th>\n",
       "      <td>0.317</td>\n",
       "      <td>0.326</td>\n",
       "      <td>0.249</td>\n",
       "      <td>42.66</td>\n",
       "      <td>30</td>\n",
       "      <td>1.422000</td>\n",
       "    </tr>\n",
       "    <tr>\n",
       "      <th>7</th>\n",
       "      <td>0.287</td>\n",
       "      <td>0.296</td>\n",
       "      <td>0.243</td>\n",
       "      <td>42.49</td>\n",
       "      <td>30</td>\n",
       "      <td>1.416333</td>\n",
       "    </tr>\n",
       "    <tr>\n",
       "      <th>8</th>\n",
       "      <td>0.260</td>\n",
       "      <td>0.269</td>\n",
       "      <td>0.236</td>\n",
       "      <td>42.43</td>\n",
       "      <td>30</td>\n",
       "      <td>1.414333</td>\n",
       "    </tr>\n",
       "  </tbody>\n",
       "</table>\n",
       "</div>"
      ],
      "text/plain": [
       "    y, м  y ист, м  Xц, м    t, c  n.1      T, с\n",
       "0  0.499     0.508   0.295  44.76   30  1.492000\n",
       "1  0.468     0.477   0.285  44.27   30  1.475667\n",
       "2  0.439     0.448   0.279  43.88   30  1.462667\n",
       "3  0.411     0.420   0.271  43.49   30  1.449667\n",
       "4  0.380     0.389   0.265  43.16   30  1.438667\n",
       "5  0.350     0.359   0.257  42.89   30  1.429667\n",
       "6  0.317     0.326   0.249  42.66   30  1.422000\n",
       "7  0.287     0.296   0.243  42.49   30  1.416333\n",
       "8  0.260     0.269   0.236  42.43   30  1.414333"
      ]
     },
     "execution_count": 43,
     "metadata": {},
     "output_type": "execute_result"
    }
   ],
   "source": [
    "init_df = pd.read_excel(\"periods.xlsx\", usecols=\"H:M\", skiprows=0, nrows=9)\n",
    "init_df\n"
   ]
  },
  {
   "cell_type": "markdown",
   "metadata": {},
   "source": [
    "По формуле для вычисления положения центра масс $x_{\\text{ц}}$:\n",
    "$$ x_{\\text{ц}} = \\frac{m_{0} x_{\\text{ц0}} + m_{\\text{г}} y }{M} $$"
   ]
  },
  {
   "cell_type": "markdown",
   "metadata": {},
   "source": [
    "Не будем пользоваться данными прямых измерений $x_{\\text{ц}}$ т.к. у них большая погрешность т.к. при их измерении линейка была на весу и задевала груз и призму  \n",
    "Измерение $y$ было более точным, т.к. линейка прикладывалась вплотную."
   ]
  },
  {
   "cell_type": "code",
   "execution_count": 44,
   "metadata": {},
   "outputs": [],
   "source": [
    "m_prism = 0.0783 # (kg)\n",
    "m_stick = 0.8914 # (kg) масса стержня\n",
    "m_addms = 0.3163 # (kg)\n"
   ]
  },
  {
   "cell_type": "code",
   "execution_count": 45,
   "metadata": {},
   "outputs": [
    {
     "data": {
      "text/plain": [
       "(0.9697, 1.286, 0.13901457583333332)"
      ]
     },
     "execution_count": 45,
     "metadata": {},
     "output_type": "execute_result"
    }
   ],
   "source": [
    "m0 = m_stick + m_prism\n",
    "M = m0 + m_addms\n",
    "\n",
    "J_0 = m0 * (l**2) / 12 + m0 * (a ** 2)\\\n",
    "\n",
    "m0, M, J_0\n"
   ]
  },
  {
   "cell_type": "markdown",
   "metadata": {},
   "source": [
    "Учтем влияние призмы на положение центра масс стержня с призмой:  \n",
    "$$ x_{\\text{ц0}} = \\frac{a_{prism} * m_{prism} + a * m_{stick}}{m_{0}}$$"
   ]
  },
  {
   "cell_type": "code",
   "execution_count": 46,
   "metadata": {},
   "outputs": [
    {
     "data": {
      "text/plain": [
       "0.226024543673301"
      ]
     },
     "execution_count": 46,
     "metadata": {},
     "output_type": "execute_result"
    }
   ],
   "source": [
    "a_prism = 0.01 # TODO TODO\n",
    "x_centr_0 =  (a_prism*m_prism + a * m_stick)/(m0)# 0.245 - mistake value\n",
    "x_centr_0\n"
   ]
  },
  {
   "cell_type": "code",
   "execution_count": 47,
   "metadata": {},
   "outputs": [],
   "source": [
    "y_arr   = list(init_df[\"y ист, м\"])\n",
    "\n",
    "x_centr = [(m0*x_centr_0 + m_addms*y)/(M) for y in y_arr]\n",
    "T_mass  = list(init_df[\"T, с\"])\n"
   ]
  },
  {
   "cell_type": "markdown",
   "metadata": {},
   "source": [
    "#### Непосредственное вычисление g (для стержня с дополнительной массой) по среднему значению"
   ]
  },
  {
   "cell_type": "markdown",
   "metadata": {},
   "source": [
    "$$ g = 4\\pi^{2} \\frac{J_{0} + m_{\\text{г}} y^{2}}{T^{2} M x_{\\text{ц}}}$$"
   ]
  },
  {
   "cell_type": "code",
   "execution_count": 48,
   "metadata": {},
   "outputs": [],
   "source": [
    "def g_calc(J_0, m_addms, y, T_mass, M, x_centr):\n",
    "    return 4 * (np.pi ** 2) * (J_0 + m_addms * (y**2)) / ((T_mass ** 2) * M * x_centr)\n"
   ]
  },
  {
   "cell_type": "code",
   "execution_count": 49,
   "metadata": {},
   "outputs": [
    {
     "data": {
      "text/plain": [
       "[10.30119,\n",
       " 10.33634,\n",
       " 10.35446,\n",
       " 10.39596,\n",
       " 10.41586,\n",
       " 10.43618,\n",
       " 10.45754,\n",
       " 10.48982,\n",
       " 10.50179]"
      ]
     },
     "execution_count": 49,
     "metadata": {},
     "output_type": "execute_result"
    }
   ],
   "source": [
    "g_arr = [g_calc(J_0, m_addms, y_arr[i], T_mass[i], M, x_centr[i]) for i in range(len(y_arr))]\n",
    "g_arr = [round(g_arr[i], 5) for i in range(len(g_arr))]\n",
    "g_arr\n"
   ]
  },
  {
   "cell_type": "markdown",
   "metadata": {},
   "source": [
    "#### Вычисление погрешности среднего g"
   ]
  },
  {
   "cell_type": "markdown",
   "metadata": {},
   "source": [
    "Стандартное отклонение \n",
    "$$ \\sigma_{g} = \\sqrt{\\frac{1}{N-1} \\sum{(\\langle g \\rangle - g_{i})^{2}}} $$"
   ]
  },
  {
   "cell_type": "code",
   "execution_count": 50,
   "metadata": {},
   "outputs": [],
   "source": [
    "def std_deviation(arr):\n",
    "    sum = 0\n",
    "\n",
    "    av_arr = np.sum(arr) / len(arr)\n",
    "\n",
    "    for i in range(len(arr)):\n",
    "        sum += (arr[i] - av_arr)**2\n",
    "\n",
    "    sum /= (len(arr) - 1)\n",
    "\n",
    "    return np.sqrt(sum)\n"
   ]
  },
  {
   "cell_type": "code",
   "execution_count": 51,
   "metadata": {},
   "outputs": [
    {
     "data": {
      "text/plain": [
       "(10.409904444444445, 0.02307101440908477, 0.22162561176435489)"
      ]
     },
     "execution_count": 51,
     "metadata": {},
     "output_type": "execute_result"
    }
   ],
   "source": [
    "g_deviation = std_deviation(g_arr)\n",
    "sigma_g = g_deviation / np.sqrt(len(g_arr))\n",
    "epsilon_g_mean = sigma_g / np.mean(g_arr) * 100\n",
    "np.mean(g_arr), sigma_g, epsilon_g_mean\n"
   ]
  },
  {
   "cell_type": "markdown",
   "metadata": {},
   "source": [
    "Окончательный результат по данному методу:\n",
    "$$g = 10.411 \\pm 0.023 ~\\text{м}/\\text{с}^{2} ~(\\epsilon \\approx 0.22 \\%)$$"
   ]
  },
  {
   "cell_type": "markdown",
   "metadata": {},
   "source": [
    "Такой результат не может считаться надежным т.к. справедливость теоретической зависимости не была проверена. Кроме того, усреднение разнородных измерений в общем случае не является корректным."
   ]
  },
  {
   "cell_type": "markdown",
   "metadata": {},
   "source": [
    "### Определение $g$ по углу наклона графика $T^{2}x_{\\text{ц}}(y^{2})$"
   ]
  },
  {
   "cell_type": "markdown",
   "metadata": {},
   "source": [
    "Если внимательно посмотреть на формулу для $g$:\n",
    "$$ g = 4\\pi^{2} \\frac{J_{0} + m_{\\text{г}} y^{2}}{T^{2} M x_{\\text{ц}}}$$"
   ]
  },
  {
   "cell_type": "markdown",
   "metadata": {},
   "source": [
    "$$T^{2}x_{\\text{ц}} = \\frac{4 \\pi^{2} m_{\\text{г}}}{gM} (\\frac{J_{0}}{m_{\\text{г}}} + y^{2})$$"
   ]
  },
  {
   "cell_type": "markdown",
   "metadata": {},
   "source": [
    "Можно заметить, что если построить график $T^{2}x_{\\text{ц}}(y^{2})$, можно вычислить $g$ через угловой коэффициент"
   ]
  },
  {
   "cell_type": "code",
   "execution_count": 52,
   "metadata": {},
   "outputs": [],
   "source": [
    "y_sqr = [round(y**2, 4) for y in y_arr]                         # аналог оси x\n",
    "T_sqr_x_centr = [t**2 * x_c for t, x_c in zip(T_mass, x_centr)] # аналог оси y\n",
    "\n",
    "N = len(y_sqr)\n"
   ]
  },
  {
   "cell_type": "markdown",
   "metadata": {},
   "source": [
    "По формуле для вычисления положения центра масс $x_{\\text{ц}}$:\n",
    "$$ x_{\\text{ц}} = \\frac{m_{0} x_{\\text{ц0}} + m_{\\text{г}} y }{M} $$"
   ]
  },
  {
   "cell_type": "markdown",
   "metadata": {},
   "source": [
    "Погрешность $x_{\\text{ц}}$ найдем как погрешность случайной величины"
   ]
  },
  {
   "cell_type": "markdown",
   "metadata": {},
   "source": [
    "Погрешность $y^{2}$:\n",
    "$$\\sigma_{y^{2}} = 2y\\sigma_{l}$$\n",
    "\n",
    "Погрешность $A = T^{2} x_{\\text{ц}}$ (не учитывам малую погрешность времени):\n",
    "$$ \\sigma_{A} = T^{2} \\sigma_{x_{\\text{ц}}} $$\n"
   ]
  },
  {
   "cell_type": "markdown",
   "metadata": {},
   "source": [
    "$$\\sigma_{A} = \\sqrt{(2 T x_{\\text{ц}} \\sigma_{T})^{2} + (T^{2} \\sigma_{x_{\\text{ц}}})^{2}}$$"
   ]
  },
  {
   "cell_type": "code",
   "execution_count": 53,
   "metadata": {},
   "outputs": [],
   "source": [
    "sigma_x_centr = 1 / N * np.sqrt(np.sum([(np.mean(x_centr) - x_i)**2 for x_i in x_centr]))\n",
    "\n",
    "sigma_y_sqr = [2 * y_i * sigma_l for y_i in y_sqr]\n",
    "\n",
    "sigma_T_sqr_x_centr = [np.sqrt((t**2 * sigma_x_centr)**2 + (2 * t * x * 0.01)**2) for t, x in zip(T_mass, x_centr)]\n"
   ]
  },
  {
   "cell_type": "markdown",
   "metadata": {},
   "source": [
    "Аппроксимировать будем по МНК:\n",
    "$$k = \\frac{\\overline{uv}- \\bar{u}\\bar{v}}{\\bar{v^2}-\\bar{v}^2}, \\quad b = \\bar{u} - k \\bar{v}$$"
   ]
  },
  {
   "cell_type": "code",
   "execution_count": 54,
   "metadata": {},
   "outputs": [
    {
     "name": "stdout",
     "output_type": "stream",
     "text": [
      "k =  0.9916820083089324 , b =  0.40109553023573663\n"
     ]
    },
    {
     "data": {
      "text/plain": [
       "array([0.99168201, 0.40109553])"
      ]
     },
     "execution_count": 54,
     "metadata": {},
     "output_type": "execute_result"
    }
   ],
   "source": [
    "v = y_sqr\n",
    "u = T_sqr_x_centr\n",
    "\n",
    "mu = np.mean(u) # средее\n",
    "mv = np.mean(v)\n",
    "mv2 = np.mean([v_i**2 for v_i in v]) # средний квадрат\n",
    "mu2 = np.mean([u_i**2 for u_i in u])\n",
    "muv = np.mean ([u[i] * v[i] for i in range(len(u))]) # среднее от произведения\n",
    "k = (muv - mu * mv) / (mv2 - mv**2)\n",
    "b = mu - k * mv\n",
    "print(\"k = \", k, \", b = \", b)\n",
    "\n",
    "# то что выше эквивалентно\n",
    "np.polyfit(v, u, 1)\n"
   ]
  },
  {
   "cell_type": "code",
   "execution_count": 55,
   "metadata": {},
   "outputs": [
    {
     "data": {
      "text/plain": [
       "<matplotlib.legend.Legend at 0x141b3393c70>"
      ]
     },
     "execution_count": 55,
     "metadata": {},
     "output_type": "execute_result"
    },
    {
     "data": {
      "image/png": "[encoded data removed]",
      "text/plain": [
       "<Figure size 640x480 with 1 Axes>"
      ]
     },
     "metadata": {},
     "output_type": "display_data"
    }
   ],
   "source": [
    "plt.figure()\n",
    "plt.ylabel(\"$T^{2}x_{ц}$, $c^{2}$м\")\n",
    "plt.xlabel(\"$y^{2}$, ${м}^{2}$\")\n",
    "plt.title('Рис.1 График зависимости $T^{2}x_{ц}(y^{2})$')\n",
    "plt.grid(True, linestyle = '--')\n",
    "plt.errorbar(y_sqr, T_sqr_x_centr, xerr=sigma_y_sqr, yerr = sigma_T_sqr_x_centr, fmt = \".k\", label = \"Экспериментальные точки\")\n",
    "x = np.array([0.05, 0.3])\n",
    "plt.plot(x, k*x + b, \"-r\", linewidth = 1)\n",
    "plt.legend()\n"
   ]
  },
  {
   "cell_type": "code",
   "execution_count": 56,
   "metadata": {},
   "outputs": [
    {
     "data": {
      "text/plain": [
       "0.9916820083089324"
      ]
     },
     "execution_count": 56,
     "metadata": {},
     "output_type": "execute_result"
    }
   ],
   "source": [
    "k\n"
   ]
  },
  {
   "cell_type": "markdown",
   "metadata": {},
   "source": [
    "$$k = \\frac{4 \\pi^{2} m_{\\text{г}}}{gM} $$"
   ]
  },
  {
   "cell_type": "markdown",
   "metadata": {},
   "source": [
    "$$ g = \\frac{4 \\pi^{2} m_{\\text{г}}}{kM} $$ "
   ]
  },
  {
   "cell_type": "code",
   "execution_count": 57,
   "metadata": {},
   "outputs": [
    {
     "data": {
      "text/plain": [
       "9.791416529625119"
      ]
     },
     "execution_count": 57,
     "metadata": {},
     "output_type": "execute_result"
    }
   ],
   "source": [
    "g_graph = (4 * np.pi**2 * m_addms) / (k * M)\n",
    "g_graph\n"
   ]
  },
  {
   "cell_type": "markdown",
   "metadata": {},
   "source": [
    "#### Погрешности"
   ]
  },
  {
   "cell_type": "markdown",
   "metadata": {},
   "source": [
    "Вычислим случайные погрешности определения коэффициентов прямой: \n",
    "\\begin{equation}\n",
    "\\sigma_k = \\sqrt{\\frac{1}{N-2} \\left(\\frac{\\overline{y^2}-\\bar{y}^2}{\\overline{x^2} - \\bar{x}^2}-k^2\\right)},\\qquad \\sigma_b = \\sigma_k \\sqrt{\\overline{x^2}}\n",
    "\\end{equation}\n",
    "и из них --- случайную погрешность измерения $g$ и $L$."
   ]
  },
  {
   "cell_type": "code",
   "execution_count": 58,
   "metadata": {},
   "outputs": [
    {
     "name": "stdout",
     "output_type": "stream",
     "text": [
      "sigma_k = 0.002, sigma_b = 0.000\n",
      "sigma_g = 0.023, sigma_L = 0.003\n"
     ]
    }
   ],
   "source": [
    "N = len(v) # число точек\n",
    "sigma_k = np.sqrt(1/(N-2) * ( (mu2 - mu**2)/(mv2 - mv**2) - k**2 ) )\n",
    "sigma_b = sigma_k * np.sqrt(mv2)\n",
    "sigma_g = sigma_k / k * g_graph\n",
    "sigma_L = 1 * np.sqrt( (sigma_b / b)**2 + (sigma_g / g_graph)**2 )\n",
    "print(\"sigma_k = %.3f, sigma_b = %.3f\" % (sigma_k, sigma_b))\n",
    "print(\"sigma_g = %.3f, sigma_L = %.3f\" % (sigma_g, sigma_L))\n"
   ]
  },
  {
   "cell_type": "code",
   "execution_count": 59,
   "metadata": {},
   "outputs": [
    {
     "data": {
      "text/plain": [
       "0.23259480619000475"
      ]
     },
     "execution_count": 59,
     "metadata": {},
     "output_type": "execute_result"
    }
   ],
   "source": [
    "epsilon_g_graph = sigma_g / g_graph * 100 # %\n",
    "epsilon_g_graph\n"
   ]
  },
  {
   "cell_type": "markdown",
   "metadata": {},
   "source": [
    "По графику получаем\n",
    "$$ g = 9.791 \\pm 0.023 ~\\text{м}/\\text{с}^{2} ~(\\epsilon \\approx 0.23 \\%)$$ "
   ]
  },
  {
   "cell_type": "markdown",
   "metadata": {},
   "source": [
    "### Затухающие колебания \n"
   ]
  },
  {
   "cell_type": "markdown",
   "metadata": {},
   "source": [
    "Отклонив стержень на $\\approx 10 \\degree $ от вертикали, мы отпустили его, запустив автоматический счетчик колебаний\n"
   ]
  },
  {
   "cell_type": "markdown",
   "metadata": {},
   "source": [
    "Амплитуда уменьшилась вдвое через 505.61 сек, через 329 полных колебаний  \n",
    "Это число, конечно, приблизительное, т к изменение амплитуды вдвое мы определяли на глаз по настенной шкале"
   ]
  },
  {
   "cell_type": "markdown",
   "metadata": {},
   "source": [
    "$$ e^{-\\gamma n T} = 0.5 $$ \n",
    "(т.к. амплитуда уменьшилась вдвое)"
   ]
  },
  {
   "cell_type": "markdown",
   "metadata": {},
   "source": [
    "$$ \\gamma = -\\ln{0.5} / (nT)$$"
   ]
  },
  {
   "cell_type": "code",
   "execution_count": 60,
   "metadata": {},
   "outputs": [
    {
     "data": {
      "text/plain": [
       "4.166907964732632e-06"
      ]
     },
     "execution_count": 60,
     "metadata": {},
     "output_type": "execute_result"
    }
   ],
   "source": [
    "n_exp = 329\n",
    "T_exp = 505.61\n",
    "koeff = 0.5\n",
    "gamma = - np.log(koeff) / n_exp / T_exp\n",
    "gamma\n"
   ]
  },
  {
   "cell_type": "markdown",
   "metadata": {},
   "source": [
    "$$ \\tau = \\frac{1}{\\gamma} $$"
   ]
  },
  {
   "cell_type": "code",
   "execution_count": 61,
   "metadata": {},
   "outputs": [
    {
     "data": {
      "text/plain": [
       "239986.10203625282"
      ]
     },
     "execution_count": 61,
     "metadata": {},
     "output_type": "execute_result"
    }
   ],
   "source": [
    "tau_exp = 1/gamma\n",
    "tau_exp\n"
   ]
  },
  {
   "cell_type": "markdown",
   "metadata": {},
   "source": [
    "$$ Q = \\pi \\frac{\\tau}{T} $$"
   ]
  },
  {
   "cell_type": "code",
   "execution_count": 62,
   "metadata": {},
   "outputs": [
    {
     "data": {
      "text/plain": [
       "1491.1464866611466"
      ]
     },
     "execution_count": 62,
     "metadata": {},
     "output_type": "execute_result"
    }
   ],
   "source": [
    "Q = np.pi * tau_exp / T_exp\n",
    "Q\n"
   ]
  },
  {
   "cell_type": "markdown",
   "metadata": {},
   "source": [
    "## Вывод"
   ]
  },
  {
   "cell_type": "markdown",
   "metadata": {},
   "source": [
    "Мы вычислили три значения g для двух опытов (для одного из них двумя способами).\n"
   ]
  },
  {
   "cell_type": "markdown",
   "metadata": {},
   "source": [
    "g при колебании стержня без дополнительной массы:  \n",
    "$$ g = 9.785 \\pm 0.027 ~\\text{м} / c^{2} (\\epsilon_{g} \\approx 0.28 \\%)$$"
   ]
  },
  {
   "cell_type": "markdown",
   "metadata": {},
   "source": [
    "g полученное усреднением g для колебаний стержня с грузом для разных положений груза:\n",
    "$$g = 10.411 \\pm 0.023 ~\\text{м}/\\text{с}^{2} ~(\\epsilon \\approx 0.22 \\%)$$"
   ]
  },
  {
   "cell_type": "markdown",
   "metadata": {},
   "source": [
    "g по углу наклона графика:\n",
    "$$ g = 9.791 \\pm 0.023 ~\\text{м}/\\text{с}^{2} ~(\\epsilon \\approx 0.23 \\%)$$ "
   ]
  },
  {
   "cell_type": "markdown",
   "metadata": {},
   "source": [
    "Ну вроде как на Земле живем"
   ]
  },
  {
   "cell_type": "markdown",
   "metadata": {},
   "source": [
    "----"
   ]
  },
  {
   "cell_type": "markdown",
   "metadata": {},
   "source": [
    "Очевидно, что Земля, после достижения максимума во время моего второго опыта, начала терять гравитацию.  \n",
    "Это значит, что в скором времении ее не хватит на удержание атмосферы и планета станет похожа на Марс.  \n",
    " "
   ]
  },
  {
   "cell_type": "markdown",
   "metadata": {},
   "source": [
    "Пока никто ничего не знает у меня есть время на подготовку: я запаковал уже около 5 литров кислорода в бутылки в своей комнате, чтобы официально остаться последним человеком на Земле, когда весь кислород улетит в космос.\n"
   ]
  },
  {
   "cell_type": "markdown",
   "metadata": {},
   "source": [
    "Когда я останусь один на Земле, я, с двумя гирями на голове (чтобы не лопнуть от перепада давления, очевидно), медленно посасывая кислород из бутылки Боржоми, буду думать, где ученые ошиблись, когда посчитали g = 9.81 м/с^2"
   ]
  },
  {
   "cell_type": "markdown",
   "metadata": {},
   "source": [
    "Когда же g станет равен нулю, я оттолкнусь от Земли и улечу на Луну, куда, очевидно, прилетел весь кислород с Земли. По прибытии я сброшу с головы гири, посажу кукурузу и пересниму фильм Марсианин, только назову его Лунянин, чтобы показать Голливуду, что мы тоже можем в большое кино, которое посмотрят все люди мира, то есть я."
   ]
  }
 ],
 "metadata": {
  "kernelspec": {
   "display_name": "Python 3",
   "language": "python",
   "name": "python3"
  },
  "language_info": {
   "codemirror_mode": {
    "name": "ipython",
    "version": 3
   },
   "file_extension": ".py",
   "mimetype": "text/x-python",
   "name": "python",
   "nbconvert_exporter": "python",
   "pygments_lexer": "ipython3",
   "version": "3.10.4"
  },
  "orig_nbformat": 4
 },
 "nbformat": 4,
 "nbformat_minor": 2
}
