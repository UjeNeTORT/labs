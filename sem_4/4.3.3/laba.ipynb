{
 "cells": [
  {
   "cell_type": "markdown",
   "metadata": {},
   "source": [
    "измеряем расстояния между дифракционными максимумами для 6 сеток"
   ]
  },
  {
   "cell_type": "code",
   "execution_count": 180,
   "metadata": {},
   "outputs": [],
   "source": [
    "import numpy as np\n",
    "import matplotlib.pyplot as plt"
   ]
  },
  {
   "cell_type": "code",
   "execution_count": 181,
   "metadata": {},
   "outputs": [],
   "source": [
    "def LeastSquares(x_arr, y_arr): # returns [k, b, sigma_k, sigma b]\n",
    "    v = x_arr\n",
    "    u = y_arr\n",
    "\n",
    "    N = len(v)\n",
    "\n",
    "    mu = np.mean(u) # средее\n",
    "    mv = np.mean(v)\n",
    "    mv2 = np.mean([v_i**2 for v_i in v]) # средний квадрат\n",
    "    mu2 = np.mean([u_i**2 for u_i in u])\n",
    "    muv = np.mean ([u[i] * v[i] for i in range(len(u))]) # среднее от произведения\n",
    "    k = (muv - mu * mv) / (mv2 - mv**2)\n",
    "    b = mu - k * mv\n",
    "\n",
    "    sigma_k = np.sqrt(1/(N-2) * ( (mu2 - mu**2)/(mv2 - mv**2) - k**2 ) )\n",
    "    sigma_b = sigma_k * np.sqrt(mv2)\n",
    "\n",
    "    return (k, b, sigma_k, sigma_b)"
   ]
  },
  {
   "cell_type": "code",
   "execution_count": 182,
   "metadata": {},
   "outputs": [],
   "source": [
    "# stell ruler 50 cm\n",
    "sigma_ruler = 0.001\n"
   ]
  },
  {
   "cell_type": "code",
   "execution_count": 183,
   "metadata": {},
   "outputs": [],
   "source": [
    "# 1\n",
    "delta_setka_arr_1 = [130 / 10, 104 / 8]\n",
    "delta_setka_arr_1 = [i * .001 for i in delta_setka_arr_1]\n",
    "delta_setka_1 = np.mean(delta_setka_arr_1) # m\n",
    "sigma_delta_setka_1 = .001 / 10"
   ]
  },
  {
   "cell_type": "code",
   "execution_count": 184,
   "metadata": {},
   "outputs": [],
   "source": [
    "# 2\n",
    "delta_setka_arr_2 = [155 / 6, 130 / 5]\n",
    "delta_setka_arr_2 = [i * .001 for i in delta_setka_arr_2]\n",
    "delta_setka_2 = np.mean(delta_setka_arr_2) # m\n",
    "sigma_delta_setka_2 = .001 / 6"
   ]
  },
  {
   "cell_type": "code",
   "execution_count": 185,
   "metadata": {},
   "outputs": [],
   "source": [
    "# 3\n",
    "delta_setka_arr_3 = [130 / 2, 130 / 2]\n",
    "delta_setka_arr_3 = [i * .001 for i in delta_setka_arr_3]\n",
    "delta_setka_3 = np.mean(delta_setka_arr_3) # m\n",
    "sigma_delta_setka_3 = .001 / 2"
   ]
  },
  {
   "cell_type": "code",
   "execution_count": 186,
   "metadata": {},
   "outputs": [],
   "source": [
    "# 4\n",
    "delta_setka_arr_4 = [180 / 14, 90 / 7]\n",
    "delta_setka_arr_4 = [i * .001 for i in delta_setka_arr_4]\n",
    "delta_setka_4 = np.mean(delta_setka_arr_4) # m\n",
    "sigma_delta_setka_4 = .001 / 14"
   ]
  },
  {
   "cell_type": "code",
   "execution_count": 187,
   "metadata": {},
   "outputs": [],
   "source": [
    "# 5\n",
    "delta_setka_arr_5 = [155 / 6, 130 / 5]\n",
    "delta_setka_arr_5 = [i * .001 for i in delta_setka_arr_5]\n",
    "delta_setka_5 = np.mean(delta_setka_arr_5) # m\n",
    "sigma_delta_setka_5 = 0.001 / 6\n"
   ]
  },
  {
   "cell_type": "code",
   "execution_count": 188,
   "metadata": {},
   "outputs": [],
   "source": [
    "# 6\n",
    "delta_setka_arr_6 = [195 / 3, 130 / 2]\n",
    "delta_setka_arr_6 = [i * .001 for i in delta_setka_arr_6]\n",
    "delta_setka_6 = np.mean(delta_setka_arr_6) # m\n",
    "sigma_delta_setka_6 = .001 / 3"
   ]
  },
  {
   "cell_type": "code",
   "execution_count": 189,
   "metadata": {},
   "outputs": [],
   "source": [
    "L = 120 * .01  # m from setka to screen (when setka measure)\n",
    "# L = 130 * 0.01 # m from setka to screen (when h nu saw)"
   ]
  },
  {
   "cell_type": "code",
   "execution_count": 190,
   "metadata": {},
   "outputs": [],
   "source": [
    "lambda_wave = 532 * 1e-9 # m lazer wave length"
   ]
  },
  {
   "cell_type": "code",
   "execution_count": 191,
   "metadata": {},
   "outputs": [
    {
     "data": {
      "text/plain": [
       "(np.float64(49.107692307692304),\n",
       " np.float64(24.632797427652736),\n",
       " np.float64(9.821538461538463),\n",
       " np.float64(49.65333333333333),\n",
       " np.float64(24.632797427652736),\n",
       " np.float64(9.821538461538463))"
      ]
     },
     "execution_count": 191,
     "metadata": {},
     "output_type": "execute_result"
    }
   ],
   "source": [
    "d_1 = 1 * lambda_wave / (delta_setka_1/L)\n",
    "d_2 = 1 * lambda_wave / (delta_setka_2/L)\n",
    "d_3 = 1 * lambda_wave / (delta_setka_3/L)\n",
    "d_4 = 1 * lambda_wave / (delta_setka_4/L)\n",
    "d_5 = 1 * lambda_wave / (delta_setka_5/L)\n",
    "d_6 = 1 * lambda_wave / (delta_setka_6/L)\n",
    "d_1 * 1e6, d_2 * 1e6, d_3 * 1e6, d_4 * 1e6, d_5 * 1e6, d_6 * 1e6"
   ]
  },
  {
   "cell_type": "code",
   "execution_count": 192,
   "metadata": {},
   "outputs": [
    {
     "data": {
      "text/plain": [
       "(np.float64(1.9758007364254044),\n",
       " np.float64(0.8359437910588494),\n",
       " np.float64(0.3951601472850809),\n",
       " np.float64(1.4504771975155224),\n",
       " np.float64(0.8359437910588494),\n",
       " np.float64(0.2653431606240131))"
      ]
     },
     "execution_count": 192,
     "metadata": {},
     "output_type": "execute_result"
    }
   ],
   "source": [
    "sigma_d_1 = 10 * lambda_wave * np.sqrt((0.00520/0.130)**2 + (L * 0.00520/0.130**2)**2)\n",
    "sigma_d_2 = 6 * lambda_wave * np.sqrt((0.00520/0.155)**2 + (L * 0.00520/0.155**2)**2)\n",
    "sigma_d_3 = 2 * lambda_wave * np.sqrt((0.00520/0.130)**2 + (L * 0.00520/0.130**2)**2)\n",
    "sigma_d_4 = 14 * lambda_wave * np.sqrt((0.00520/0.180)**2 + (L * 0.00520/0.180**2)**2)\n",
    "sigma_d_5 = 6 * lambda_wave * np.sqrt((0.00520/0.155)**2 + (L * 0.00520/0.155**2)**2)\n",
    "sigma_d_6 = 3 * lambda_wave * np.sqrt((0.00520/0.195)**2 + (L * 0.00520/0.195**2)**2)\n",
    "sigma_d_1 * 1e6, sigma_d_2 * 1e6, sigma_d_3 * 1e6, sigma_d_4 * 1e6, sigma_d_5 * 1e6, sigma_d_6 * 1e6\n"
   ]
  },
  {
   "cell_type": "code",
   "execution_count": 193,
   "metadata": {},
   "outputs": [],
   "source": [
    "a_1 = 195 * .001 # m from setka to long-focus lens\n",
    "b_1_plus_a_2 = 310 * .001 # m from long-focus lens to short-focus lens\n",
    "b_2 = 810 * .001 # m from the short-focus lens to the screen\n",
    "b_1 = 285 * .001\n",
    "sigma_b_1 = 5 * .001\n",
    "f_2 = 25 *.001"
   ]
  },
  {
   "cell_type": "code",
   "execution_count": 194,
   "metadata": {},
   "outputs": [
    {
     "data": {
      "text/plain": [
       "np.float64(1.0647205844213585)"
      ]
     },
     "execution_count": 194,
     "metadata": {},
     "output_type": "execute_result"
    }
   ],
   "source": [
    "a_2 = b_2 * f_2 / (b_2 - f_2)\n",
    "sigma_a_2 = np.sqrt((f_2**4)*(.005**2)/(b_2 - f_2)**4 + (b_2**4)*(.001**2)/(b_2-f_2)**4)\n",
    "sigma_a_2 * 1e3"
   ]
  },
  {
   "cell_type": "code",
   "execution_count": 195,
   "metadata": {},
   "outputs": [
    {
     "data": {
      "text/plain": [
       "np.float64(2.387690554584909)"
      ]
     },
     "execution_count": 195,
     "metadata": {},
     "output_type": "execute_result"
    }
   ],
   "source": [
    "gamma = (b_1 * b_2)/(a_1 * a_2)\n",
    "sigma_gamma = np.sqrt(\n",
    "  (b_2 * sigma_b_1)**2 +\n",
    "  (b_1 * .005)**2 +\n",
    "  (b_1 * b_2 * .005/a_1)**2 +\n",
    "  (b_1 * b_2 * sigma_a_2/a_2)**2\n",
    ") / a_1 / a_2\n",
    "sigma_gamma"
   ]
  },
  {
   "cell_type": "markdown",
   "metadata": {},
   "source": [
    "Измеряем период изображения"
   ]
  },
  {
   "cell_type": "code",
   "execution_count": 196,
   "metadata": {},
   "outputs": [],
   "source": [
    "period_setka_1 = 20 / 6 * .001 / gamma # m"
   ]
  },
  {
   "cell_type": "code",
   "execution_count": 197,
   "metadata": {},
   "outputs": [],
   "source": [
    "period_setka_2 = 20 / 12 * .001 /gamma # m"
   ]
  },
  {
   "cell_type": "code",
   "execution_count": 198,
   "metadata": {},
   "outputs": [],
   "source": [
    "period_setka_1_niz = 20 / 6 * .001 /gamma # m"
   ]
  },
  {
   "cell_type": "code",
   "execution_count": 199,
   "metadata": {},
   "outputs": [],
   "source": [
    "period_setka_2_niz = 20 / 13 * .001 / gamma # m"
   ]
  },
  {
   "cell_type": "code",
   "execution_count": 200,
   "metadata": {},
   "outputs": [
    {
     "data": {
      "text/plain": [
       "(72.63381383394795, 36.31690691697398, 72.63381383394795, 33.52329869259136)"
      ]
     },
     "execution_count": 200,
     "metadata": {},
     "output_type": "execute_result"
    }
   ],
   "source": [
    "period_setka_1 * 1e6, period_setka_2 * 1e6, period_setka_1_niz * 1e6, period_setka_2_niz * 1e6"
   ]
  },
  {
   "cell_type": "code",
   "execution_count": 201,
   "metadata": {},
   "outputs": [
    {
     "data": {
      "text/plain": [
       "(np.float64(5.239850551019067),\n",
       " np.float64(2.6199252755095337),\n",
       " np.float64(2.5171858377914803e-06))"
      ]
     },
     "execution_count": 201,
     "metadata": {},
     "output_type": "execute_result"
    }
   ],
   "source": [
    "sigma_d_1 = np.sqrt((.001/6/45.9)**2 + (sigma_gamma * .02/6/45.9**2)**2)\n",
    "sigma_d_2 = np.sqrt((.001/12/45.9)**2 + (sigma_gamma * .02/12/45.9**2)**2)\n",
    "sigma_d_4 = np.sqrt((.001/6/45.9)**2 + (sigma_gamma * .02/6/45.9**2)**2)\n",
    "sigma_d_6 = np.sqrt((.001/12/45.9)**2 + (sigma_gamma * .02/13/45.9**2)**2)\n",
    "sigma_d_1 * 1e6, sigma_d_2 * 1e6, sigma_d_6"
   ]
  },
  {
   "cell_type": "code",
   "execution_count": 202,
   "metadata": {},
   "outputs": [],
   "source": [
    "l = 0.01 * .001 # m цена деления шкалы щели"
   ]
  },
  {
   "cell_type": "code",
   "execution_count": 203,
   "metadata": {},
   "outputs": [],
   "source": [
    "l_3_niz = 14 * .001 # m"
   ]
  },
  {
   "cell_type": "code",
   "execution_count": 204,
   "metadata": {},
   "outputs": [],
   "source": [
    "l_2_niz = 30 * .001 # m"
   ]
  },
  {
   "cell_type": "code",
   "execution_count": 205,
   "metadata": {},
   "outputs": [],
   "source": [
    "l_2_verh = 112 * .001 # m"
   ]
  },
  {
   "cell_type": "code",
   "execution_count": 206,
   "metadata": {},
   "outputs": [],
   "source": [
    "l_3_verh = 42 * .001"
   ]
  },
  {
   "cell_type": "code",
   "execution_count": 207,
   "metadata": {},
   "outputs": [],
   "source": [
    "D = 38 * .001 # m"
   ]
  },
  {
   "cell_type": "code",
   "execution_count": 208,
   "metadata": {},
   "outputs": [
    {
     "data": {
      "text/plain": [
       "np.float64(0.26523910623727537)"
      ]
     },
     "execution_count": 208,
     "metadata": {},
     "output_type": "execute_result"
    }
   ],
   "source": [
    "2 * lambda_wave * 110/4.15 * 1e6\n",
    "2 * lambda_wave * np.sqrt((1/4.15)**2 + (110 * 0.01/4.15**2)**2) * 1e6"
   ]
  },
  {
   "cell_type": "code",
   "execution_count": 209,
   "metadata": {},
   "outputs": [
    {
     "data": {
      "text/plain": [
       "(144.49382716049385, np.float64(2.215333151820247))"
      ]
     },
     "execution_count": 209,
     "metadata": {},
     "output_type": "execute_result"
    }
   ],
   "source": [
    "2 * lambda_wave * 110/.81 * 1e6, 2 * lambda_wave * np.sqrt((1/.81)**2 + (110 * 0.01/.81**2)**2) * 1e6"
   ]
  },
  {
   "cell_type": "code",
   "execution_count": 210,
   "metadata": {},
   "outputs": [],
   "source": [
    "x = [.24, .52, .98, 1.24]\n",
    "\n",
    "y = [28.2, 60.02, 114.75, 144.49]\n",
    "\n",
    "xerr = [.001 * i for i in x]\n",
    "yerr = [.27, .62, 1.53, 2.22]"
   ]
  },
  {
   "cell_type": "code",
   "execution_count": 211,
   "metadata": {},
   "outputs": [
    {
     "data": {
      "text/plain": [
       "(np.float64(116.75738570721235), np.float64(0.730885430778657))"
      ]
     },
     "execution_count": 211,
     "metadata": {},
     "output_type": "execute_result"
    },
    {
     "data": {
      "image/png": "[encoded data removed]",
      "text/plain": [
       "<Figure size 640x480 with 1 Axes>"
      ]
     },
     "metadata": {},
     "output_type": "display_data"
    }
   ],
   "source": [
    "plt.figure(1)\n",
    "plt.ylabel(\"$d, мкм$\")\n",
    "plt.xlabel(\"$1/D, мм^{-1}$\")\n",
    "plt.title('График зависимости $d = f(1/D)$')\n",
    "plt.grid(True, linestyle = '--')\n",
    "plt.errorbar(x, y, xerr=xerr, yerr = yerr, fmt = \".k\", label = \"Экспериментальные точки\")\n",
    "\n",
    "k, b, kerr, berr = LeastSquares(x, y)\n",
    "x = np.array([min(x), max(x)])\n",
    "plt.plot(x, k*x + b, \"-r\", linewidth = 1)\n",
    "plt.legend()\n",
    "k, kerr"
   ]
  },
  {
   "cell_type": "code",
   "execution_count": 212,
   "metadata": {},
   "outputs": [],
   "source": [
    "x1 = [1,2,3,4,5]\n",
    "y1 = [24, 24, 22, 22, 22]\n",
    "\n",
    "x2 = [1,2,3,4,5]\n",
    "y2 = [17, 18, 18, 18, 19]\n",
    "\n",
    "xerr = 0\n",
    "yerr = .1"
   ]
  },
  {
   "cell_type": "code",
   "execution_count": 213,
   "metadata": {},
   "outputs": [
    {
     "data": {
      "text/plain": [
       "(np.float64(116.75738570721235), np.float64(0.730885430778657))"
      ]
     },
     "execution_count": 213,
     "metadata": {},
     "output_type": "execute_result"
    },
    {
     "data": {
      "image/png": "[encoded data removed]",
      "text/plain": [
       "<Figure size 640x480 with 1 Axes>"
      ]
     },
     "metadata": {},
     "output_type": "display_data"
    }
   ],
   "source": [
    "plt.figure(1)\n",
    "plt.ylabel(\"\")\n",
    "plt.xlabel(\"\")\n",
    "plt.title('')\n",
    "plt.grid(True, linestyle = '--')\n",
    "plt.errorbar(x1, y1, xerr=xerr, yerr = yerr, fmt = \".k\", label = \"Экспериментальные точки\")\n",
    "plt.errorbar(x2, y2, xerr=xerr, yerr = yerr, fmt = \"s\")\n",
    "\n",
    "#k, b, kerr, berr = LeastSquares(x, y)\n",
    "#x = np.array([min(x), max(x)])\n",
    "#plt.plot(x, k*x + b, \"-r\", linewidth = 1)\n",
    "plt.legend()\n",
    "k, kerr"
   ]
  },
  {
   "cell_type": "code",
   "execution_count": 214,
   "metadata": {},
   "outputs": [],
   "source": [
    "x1 = [-4, -3, -2, -1, 0, 1, 2, 3, 4]\n",
    "y1 = [-0.88, -0.72, -0.48, -0.24, 0, 0.24, 0.48, 0.72, 0.88]\n",
    "\n",
    "x2 = [-4, -3, -2, -1, 0, 1, 2, 3, 4]\n",
    "y2 = [-1.20, -0.92, -0.60, -0.28, 0, 0.28, 0.60, 0.92, 1.20]\n",
    "yerr = .01"
   ]
  },
  {
   "cell_type": "code",
   "execution_count": 215,
   "metadata": {},
   "outputs": [
    {
     "data": {
      "text/plain": [
       "(np.float64(116.75738570721235), np.float64(0.730885430778657))"
      ]
     },
     "execution_count": 215,
     "metadata": {},
     "output_type": "execute_result"
    },
    {
     "data": {
      "image/png": "[encoded data removed]",
      "text/plain": [
       "<Figure size 640x480 with 1 Axes>"
      ]
     },
     "metadata": {},
     "output_type": "display_data"
    }
   ],
   "source": [
    "plt.figure(1)\n",
    "plt.ylabel(\"\")\n",
    "plt.xlabel(\"\")\n",
    "plt.title('')\n",
    "plt.grid(True, linestyle = '--')\n",
    "plt.errorbar(x1, y1, xerr=xerr, yerr = yerr, fmt = \".k\", label = \"Экспериментальные точки\")\n",
    "plt.errorbar(x2, y2, xerr=xerr, yerr = yerr, fmt = \"s\")\n",
    "\n",
    "#k, b, kerr, berr = LeastSquares(x, y)\n",
    "#x = np.array([min(x), max(x)])\n",
    "#plt.plot(x, k*x + b, \"-r\", linewidth = 1)\n",
    "plt.legend()\n",
    "k, kerr"
   ]
  }
 ],
 "metadata": {
  "kernelspec": {
   "display_name": "Python 3",
   "language": "python",
   "name": "python3"
  },
  "language_info": {
   "codemirror_mode": {
    "name": "ipython",
    "version": 3
   },
   "file_extension": ".py",
   "mimetype": "text/x-python",
   "name": "python",
   "nbconvert_exporter": "python",
   "pygments_lexer": "ipython3",
   "version": "3.13.1"
  }
 },
 "nbformat": 4,
 "nbformat_minor": 2
}
