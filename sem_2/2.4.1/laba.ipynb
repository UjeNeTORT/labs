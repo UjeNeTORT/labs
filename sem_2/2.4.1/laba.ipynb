{
 "cells": [
  {
   "cell_type": "code",
   "execution_count": 2,
   "metadata": {},
   "outputs": [],
   "source": [
    "import matplotlib.pyplot\n",
    "import numpy"
   ]
  },
  {
   "cell_type": "code",
   "execution_count": 3,
   "metadata": {},
   "outputs": [],
   "source": [
    "base_h = 5.795 # см\n",
    "_maybe_correct_base_h = 5.755 # см\n",
    "delta_h = 7.53 - base_h # разность высот в u-образной штуке\n",
    "T = 22.64 + 273.15    # К\n",
    "\n"
   ]
  },
  {
   "cell_type": "code",
   "execution_count": null,
   "metadata": {},
   "outputs": [],
   "source": [
    "T       = [22.64, 23.36, 24.33, 25.29, 26.17, 27.12, 28.07, 29.10, 30.05, 31.15, 33.03, 34.08, 35.15, 36.13, ]\n",
    "h       = [7.53,  7.515, 7.575, 7.67,  7.71,  7.805, 7.865, 7.970, 8.07,  8.145, 8.320, 8.445, 8.570, 8.710, ]\n",
    "bases_h = [6.02,  5.795, 5.795, 5.755, 5.705, 5.61,  5.555, 5.455, 5.395, 5.300, 5.175, 4.995, 4.905, 4.865, ]\n",
    "delta_h = [h - base_h for h, base_h in zip(h, base_h)]"
   ]
  }
 ],
 "metadata": {
  "kernelspec": {
   "display_name": "Python 3",
   "language": "python",
   "name": "python3"
  },
  "language_info": {
   "codemirror_mode": {
    "name": "ipython",
    "version": 3
   },
   "file_extension": ".py",
   "mimetype": "text/x-python",
   "name": "python",
   "nbconvert_exporter": "python",
   "pygments_lexer": "ipython3",
   "version": "3.10.12"
  }
 },
 "nbformat": 4,
 "nbformat_minor": 2
}
