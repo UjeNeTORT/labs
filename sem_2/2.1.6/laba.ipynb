{
 "cells": [
  {
   "cell_type": "markdown",
   "metadata": {},
   "source": [
    "ЭДС в отсутствии потока газа: (mVDC)\n",
    "- это значение будет позже вычитаться из всех показаний вольтметра"
   ]
  },
  {
   "cell_type": "code",
   "execution_count": 1,
   "metadata": {},
   "outputs": [],
   "source": [
    "V_no_flow = 15 # uV\n",
    "T_no_flow = 273.15 + 20.08"
   ]
  },
  {
   "cell_type": "markdown",
   "metadata": {},
   "source": [
    "выставили давление 4 атм и ждем 5 минут"
   ]
  },
  {
   "cell_type": "code",
   "execution_count": null,
   "metadata": {},
   "outputs": [],
   "source": [
    "V = [154, 127, 102, 82, 63, 43]                 # uV    \n",
    "T = [20.15, 20.23, 20.31, 20.39, 20.48, 20.58]  # C\n",
    "P = [4, 3.49, 3, 2.5, 2, 1.5]                   # bar "
   ]
  },
  {
   "cell_type": "code",
   "execution_count": null,
   "metadata": {},
   "outputs": [],
   "source": [
    "V = [23, 140, 114, 95, 70, 50, 32] # uV\n",
    "T = [30.08, 30.04, 30.01, 30.01, 30.00, 30.00, 30.0] # C \n",
    "P = [0, 4.1, 3.5, 3, 2.5, 2, 1.5] # bar "
   ]
  },
  {
   "cell_type": "code",
   "execution_count": null,
   "metadata": {},
   "outputs": [],
   "source": [
    "V = [19, 105, 77, 57, 43, 29, 21] # uV\n",
    "T = [50.04, 50.01, 50.00, 50.00, 50.00, 50.00, 50.00] # C\n",
    "P = [0, 4.3, 3.5, 3, 2.5, 2, 1.6] # bar"
   ]
  }
 ],
 "metadata": {
  "kernelspec": {
   "display_name": "Python 3",
   "language": "python",
   "name": "python3"
  },
  "language_info": {
   "codemirror_mode": {
    "name": "ipython",
    "version": 3
   },
   "file_extension": ".py",
   "mimetype": "text/x-python",
   "name": "python",
   "nbconvert_exporter": "python",
   "pygments_lexer": "ipython3",
   "version": "3.10.12"
  }
 },
 "nbformat": 4,
 "nbformat_minor": 2
}
