{
 "cells": [
  {
   "cell_type": "markdown",
   "metadata": {},
   "source": [
    "Время начала 14 35"
   ]
  },
  {
   "cell_type": "markdown",
   "metadata": {},
   "source": [
    "Опустили латунь 14 37"
   ]
  },
  {
   "cell_type": "markdown",
   "metadata": {},
   "source": [
    "Достали латунь 14 44"
   ]
  },
  {
   "cell_type": "markdown",
   "metadata": {},
   "source": [
    "включили нагрев калориметра 14 47 (до 18.2)\n"
   ]
  },
  {
   "cell_type": "markdown",
   "metadata": {},
   "source": [
    "остановили нагрев калориметра 15 09 (до 18.1)"
   ]
  },
  {
   "cell_type": "markdown",
   "metadata": {},
   "source": [
    "температура упала на 1-2 градуса 15 20"
   ]
  },
  {
   "cell_type": "markdown",
   "metadata": {},
   "source": [
    "опустили латунь 15 21"
   ]
  },
  {
   "cell_type": "markdown",
   "metadata": {},
   "source": [
    "достали латунь опустили медь 15 23"
   ]
  },
  {
   "cell_type": "markdown",
   "metadata": {},
   "source": [
    "включили нагрев меди 15 31 (было где то 17.4)"
   ]
  },
  {
   "cell_type": "markdown",
   "metadata": {},
   "source": [
    "остановили нагрев меди 16 00"
   ]
  },
  {
   "cell_type": "markdown",
   "metadata": {},
   "source": [
    "достали медь 16 15 "
   ]
  },
  {
   "cell_type": "markdown",
   "metadata": {},
   "source": [
    "опустили латунь 16 18"
   ]
  },
  {
   "cell_type": "markdown",
   "metadata": {},
   "source": [
    "опустили титан 16 21"
   ]
  },
  {
   "cell_type": "markdown",
   "metadata": {},
   "source": [
    "греем с титаном 16 26"
   ]
  },
  {
   "cell_type": "markdown",
   "metadata": {},
   "source": [
    "выключили нагрев 16 46 "
   ]
  },
  {
   "cell_type": "code",
   "execution_count": 12,
   "metadata": {},
   "outputs": [],
   "source": [
    "import numpy as np\n",
    "import matplotlib.pyplot as plt\n",
    "import pandas as pd\n",
    "import math"
   ]
  },
  {
   "cell_type": "code",
   "execution_count": 13,
   "metadata": {},
   "outputs": [],
   "source": [
    "def get_sec(time_str):\n",
    "    \"\"\"Get seconds from time.\"\"\"\n",
    "    h, m, s = time_str.split(':')\n",
    "    return int(h) * 3600 + int(m) * 60 + int(s)"
   ]
  },
  {
   "cell_type": "code",
   "execution_count": 14,
   "metadata": {},
   "outputs": [],
   "source": [
    "class Experiment:\n",
    "    def __init__(self, filename) -> None:\n",
    "        self.df = pd.read_csv(filename)\n",
    "        self.nlines = len(self.df.index)\n",
    "\n",
    "        print(f\"Class initialized (nlines = %d)\" % (self.nlines))\n",
    "\n",
    "    def read_time(self):\n",
    "        self.time = [get_sec(self.df['Time'][i]) for i in range(1, self.nlines)]\n",
    "        print(f\"Time[%d]\" % (len(self.time)))\n",
    "        # return self.time\n",
    "\n",
    "    def read_temperature(self):\n",
    "        self.resistance = [self.df['Value'][i] for i in range(1, self.nlines)]\n",
    "        self.temperature = [14.583955001619313455*self.resistance[i] + 39.35514018691588785 for i in range(self.nlines - 1)]\n",
    "        print(f\"Temperature[%d]\" % (len(self.temperature)))\n",
    "        # return self.temperature\n",
    "\n"
   ]
  },
  {
   "cell_type": "code",
   "execution_count": 15,
   "metadata": {},
   "outputs": [
    {
     "name": "stdout",
     "output_type": "stream",
     "text": [
      "Class initialized (nlines = 8878)\n"
     ]
    }
   ],
   "source": [
    "Experiment = Experiment('data.csv')\n"
   ]
  },
  {
   "cell_type": "code",
   "execution_count": 16,
   "metadata": {},
   "outputs": [
    {
     "name": "stdout",
     "output_type": "stream",
     "text": [
      "Time[8877]\n",
      "Temperature[8877]\n"
     ]
    }
   ],
   "source": [
    "Experiment.read_time()\n",
    "Experiment.read_temperature()"
   ]
  },
  {
   "cell_type": "code",
   "execution_count": null,
   "metadata": {},
   "outputs": [],
   "source": []
  }
 ],
 "metadata": {
  "kernelspec": {
   "display_name": "Python 3",
   "language": "python",
   "name": "python3"
  },
  "language_info": {
   "codemirror_mode": {
    "name": "ipython",
    "version": 3
   },
   "file_extension": ".py",
   "mimetype": "text/x-python",
   "name": "python",
   "nbconvert_exporter": "python",
   "pygments_lexer": "ipython3",
   "version": "3.10.12"
  }
 },
 "nbformat": 4,
 "nbformat_minor": 2
}
