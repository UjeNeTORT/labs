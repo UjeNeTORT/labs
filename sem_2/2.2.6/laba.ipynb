{
 "cells": [
  {
   "cell_type": "code",
   "execution_count": null,
   "metadata": {},
   "outputs": [],
   "source": [
    "import matplotlib.pyplot\n",
    "import numpy"
   ]
  },
  {
   "cell_type": "code",
   "execution_count": null,
   "metadata": {},
   "outputs": [],
   "source": [
    "l = 9.9 # sm"
   ]
  },
  {
   "cell_type": "code",
   "execution_count": null,
   "metadata": {},
   "outputs": [],
   "source": [
    "class Experiment:\n",
    "    def __init__ (self, T, glass_ds, metal_ds, times_glass, times_steel):\n",
    "        self.T = T\n",
    "        self.glass_ds = glass_ds\n",
    "        self.metal_ds = metal_ds\n",
    "        self.times_glass = times_glass\n",
    "        self.times_steel = times_steel"
   ]
  },
  {
   "cell_type": "code",
   "execution_count": null,
   "metadata": {},
   "outputs": [],
   "source": [
    "Ts = [25.40, 35]\n",
    "glass_ds = [2.1, 2.05,\n",
    "            2.15, ] # mm\n",
    "metal_ds = [0.7, 0.9] # mm\n",
    "times_T_0 = [    # glass\n",
    "            [24.45, 24.77],\n",
    "            [24.78, 24.26],\n",
    "                # steel\n",
    "            [37.21, 37.21],\n",
    "            [24.91, 24.93]]\n",
    "\n",
    "Experiment1 = Experiment (25.40,\n",
    "                          [2.1, 2.05, 2.15],\n",
    "                          [0.7, 0.9],\n",
    "                          [[24.45, 24.47], [24.78, 24.26]],\n",
    "                          [[37.21, 37.21], [24.91, 24.93]])"
   ]
  },
  {
   "cell_type": "code",
   "execution_count": null,
   "metadata": {},
   "outputs": [],
   "source": [
    "Experiment2 = Experiment (35.83,\n",
    "                          [2.15, 2.15],\n",
    "                          [0.8, 0.75],\n",
    "                          [[11.55, 11.59], [11.11, 11.47]],\n",
    "                          [[11.46, 11.49], [16.22, 16.20]])"
   ]
  },
  {
   "cell_type": "code",
   "execution_count": null,
   "metadata": {},
   "outputs": [],
   "source": [
    "Experiment3 = Experiment (\n",
    "    40.83,\n",
    "    [2.1, 2.05],\n",
    "    [0.9, 0.6],\n",
    "    [[9.93, 10.09], [9.30, 9.23]],\n",
    "    [[10.47, 10.93], [13.65, 13.63]]\n",
    ")"
   ]
  },
  {
   "cell_type": "code",
   "execution_count": null,
   "metadata": {},
   "outputs": [],
   "source": [
    "Experiment4 = Experiment (\n",
    "    50.85,\n",
    "    [2.15, 2.10],\n",
    "    [0.75, 0.7],\n",
    "    [[5, 5.34], [4.62, 4.84]],\n",
    "    [[7.72, 7.94], [7.15, 7.49]]\n",
    ")"
   ]
  },
  {
   "cell_type": "code",
   "execution_count": null,
   "metadata": {},
   "outputs": [],
   "source": [
    "Experiment5 = Experiment (\n",
    "    60.63,\n",
    "    [2.2, 2],\n",
    "    [0.7, 0.75],\n",
    "    [[2.59, 3.18], [2.49, 2.78]],   # температура уже 60\n",
    "    [[4.16, 4.49], [4.93, 5.62]]\n",
    ")\n",
    "# последний шарик долго не получался изза кривых рук и шуток судьбы"
   ]
  },
  {
   "cell_type": "code",
   "execution_count": null,
   "metadata": {},
   "outputs": [],
   "source": [
    "\n"
   ]
  }
 ],
 "metadata": {
  "kernelspec": {
   "display_name": "Python 3",
   "language": "python",
   "name": "python3"
  },
  "language_info": {
   "name": "python",
   "version": "3.10.12"
  }
 },
 "nbformat": 4,
 "nbformat_minor": 2
}
