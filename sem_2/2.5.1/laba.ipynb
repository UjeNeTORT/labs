{
 "cells": [
  {
   "cell_type": "code",
   "execution_count": 33,
   "metadata": {},
   "outputs": [],
   "source": [
    "import numpy as np\n",
    "import matplotlib.pyplot as plt"
   ]
  },
  {
   "cell_type": "code",
   "execution_count": 34,
   "metadata": {},
   "outputs": [],
   "source": [
    "def cvt_P(manom):\n",
    "    return 0.2 * 9.81 * manom"
   ]
  },
  {
   "cell_type": "markdown",
   "metadata": {},
   "source": [
    "Оценка диаметра иглы по формуле лапласа"
   ]
  },
  {
   "cell_type": "code",
   "execution_count": 35,
   "metadata": {},
   "outputs": [],
   "source": [
    "sigma_spirt = 22.78 * 1e-3"
   ]
  },
  {
   "cell_type": "code",
   "execution_count": 36,
   "metadata": {},
   "outputs": [
    {
     "data": {
      "text/plain": [
       "[0.0005528857822435804, 0.0005663708013226921]"
      ]
     },
     "execution_count": 36,
     "metadata": {},
     "output_type": "execute_result"
    }
   ],
   "source": [
    "# показания манометра при пробулькивании в спирте (открыт нижний кран)\n",
    "manom_spirt = [42, 41, ]\n",
    "p_spirt     = [0.2 * 9.81 * i for i in manom_spirt]\n",
    "r_igla      = [2 * sigma_spirt / delta_p for delta_p in p_spirt]\n",
    "r_igla"
   ]
  },
  {
   "cell_type": "markdown",
   "metadata": {},
   "source": [
    "Внутренний диаметр иглы по микроскопу\n"
   ]
  },
  {
   "cell_type": "code",
   "execution_count": 37,
   "metadata": {},
   "outputs": [
    {
     "data": {
      "text/plain": [
       "0.575"
      ]
     },
     "execution_count": 37,
     "metadata": {},
     "output_type": "execute_result"
    }
   ],
   "source": [
    "d_precise = 1.15 # чего???\n",
    "r_precise = d_precise / 2 # мм\n",
    "r_precise"
   ]
  },
  {
   "cell_type": "markdown",
   "metadata": {},
   "source": [
    "Погрузили иглу в воду (касается) и открыли аспиратор"
   ]
  },
  {
   "cell_type": "markdown",
   "metadata": {},
   "source": [
    "*T = 23.1 C, расстояние h1 = 2 см*"
   ]
  },
  {
   "cell_type": "code",
   "execution_count": 38,
   "metadata": {},
   "outputs": [
    {
     "data": {
      "text/plain": [
       "230.53500000000003"
      ]
     },
     "execution_count": 38,
     "metadata": {},
     "output_type": "execute_result"
    }
   ],
   "source": [
    "h1 = 2 * 0.01\n",
    "manom_water   = [118, 117]   # показания манометра в момент пузырика\n",
    "delta_p_water = [0.2 * 9.81 * manom for manom in manom_water] # P1 - перепад давлений в Па\n",
    "P1 = np.mean(delta_p_water)\n",
    "P1"
   ]
  },
  {
   "cell_type": "markdown",
   "metadata": {},
   "source": [
    "Утопили иглу в воду"
   ]
  },
  {
   "cell_type": "markdown",
   "metadata": {},
   "source": [
    "*T = 23.1 C, расстояние h2 = 0.75 см*"
   ]
  },
  {
   "cell_type": "code",
   "execution_count": 39,
   "metadata": {},
   "outputs": [
    {
     "data": {
      "text/plain": [
       "344.331"
      ]
     },
     "execution_count": 39,
     "metadata": {},
     "output_type": "execute_result"
    }
   ],
   "source": [
    "h2 = 0.75 * 0.01\n",
    "manom_drown_water = [177, 174]\n",
    "delta_p_drown_water = [0.2 * 9.81 * manom for manom in manom_drown_water] # P2\n",
    "P2 = np.mean(delta_p_drown_water)\n",
    "P2\n"
   ]
  },
  {
   "cell_type": "code",
   "execution_count": 40,
   "metadata": {},
   "outputs": [
    {
     "data": {
      "text/plain": [
       "0.0116"
      ]
     },
     "execution_count": 40,
     "metadata": {},
     "output_type": "execute_result"
    }
   ],
   "source": [
    "(P2 - P1) / 1000 / 9.81"
   ]
  },
  {
   "cell_type": "code",
   "execution_count": 41,
   "metadata": {},
   "outputs": [
    {
     "data": {
      "text/plain": [
       "113.79599999999999"
      ]
     },
     "execution_count": 41,
     "metadata": {},
     "output_type": "execute_result"
    }
   ],
   "source": [
    "extra_p = P2 - P1 # rho g h\n",
    "extra_p"
   ]
  },
  {
   "cell_type": "markdown",
   "metadata": {},
   "source": [
    "$$\\Delta P = P - \\rho g h$$"
   ]
  },
  {
   "cell_type": "markdown",
   "metadata": {},
   "source": [
    "*скорее всего не надо включать T = 23 в график т к мы открывали кран аспиратора и выставляли 0 в манометре*"
   ]
  },
  {
   "cell_type": "code",
   "execution_count": 54,
   "metadata": {},
   "outputs": [
    {
     "data": {
      "text/plain": [
       "[230.53500000000003, -113.79599999999999]"
      ]
     },
     "execution_count": 54,
     "metadata": {},
     "output_type": "execute_result"
    }
   ],
   "source": [
    "Ts       = [23.1, 28.1] # C\n",
    "\n",
    "manoms   = [np.mean([177, 174]),\n",
    "            np.mean([204, 0]),\n",
    "            np.mean([])]\n",
    "\n",
    "ps       = [cvt_P(manom) for manom in manoms]\n",
    "delta_ps = [p - extra_p for p in ps]\n",
    "delta_ps"
   ]
  }
 ],
 "metadata": {
  "kernelspec": {
   "display_name": "Python 3",
   "language": "python",
   "name": "python3"
  },
  "language_info": {
   "codemirror_mode": {
    "name": "ipython",
    "version": 3
   },
   "file_extension": ".py",
   "mimetype": "text/x-python",
   "name": "python",
   "nbconvert_exporter": "python",
   "pygments_lexer": "ipython3",
   "version": "3.10.12"
  }
 },
 "nbformat": 4,
 "nbformat_minor": 2
}
