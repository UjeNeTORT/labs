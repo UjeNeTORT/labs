{
 "cells": [
  {
   "cell_type": "code",
   "execution_count": 44,
   "metadata": {},
   "outputs": [],
   "source": [
    "import numpy as np\n",
    "import matplotlib.pyplot as plt"
   ]
  },
  {
   "cell_type": "code",
   "execution_count": 45,
   "metadata": {},
   "outputs": [],
   "source": [
    "def LeastSquares(x_arr, y_arr): # returns [k, b, sigma_k, sigma b]\n",
    "    v = x_arr\n",
    "    u = y_arr\n",
    "\n",
    "    N = len(v)\n",
    "\n",
    "    mu = np.mean(u) # средее\n",
    "    mv = np.mean(v)\n",
    "    mv2 = np.mean([v_i**2 for v_i in v]) # средний квадрат\n",
    "    mu2 = np.mean([u_i**2 for u_i in u])\n",
    "    muv = np.mean ([u[i] * v[i] for i in range(len(u))]) # среднее от произведения\n",
    "    k = (muv - mu * mv) / (mv2 - mv**2)\n",
    "    b = mu - k * mv\n",
    "\n",
    "    sigma_k = np.sqrt(1/(N-2) * ( (mu2 - mu**2)/(mv2 - mv**2) - k**2 ) )\n",
    "    sigma_b = sigma_k * np.sqrt(mv2)\n",
    "\n",
    "    return (k, b, sigma_k, sigma_b)"
   ]
  },
  {
   "cell_type": "code",
   "execution_count": 46,
   "metadata": {},
   "outputs": [],
   "source": [
    "def cvt_P(manom):\n",
    "    return 0.2 * 9.81 * manom"
   ]
  },
  {
   "cell_type": "code",
   "execution_count": 47,
   "metadata": {},
   "outputs": [
    {
     "data": {
      "text/plain": [
       "1.9620000000000002"
      ]
     },
     "execution_count": 47,
     "metadata": {},
     "output_type": "execute_result"
    }
   ],
   "source": [
    "sigma_spirt  = 22.78 * 1e-3\n",
    "manom_error  = 1 # деление\n",
    "r_prcs_error = 0.00005 # м\n",
    "p_error      = cvt_P(manom_error) # Па\n",
    "p_error"
   ]
  },
  {
   "cell_type": "markdown",
   "metadata": {},
   "source": [
    "Оценка диаметра иглы по формуле лапласа"
   ]
  },
  {
   "cell_type": "code",
   "execution_count": 48,
   "metadata": {},
   "outputs": [
    {
     "name": "stdout",
     "output_type": "stream",
     "text": [
      "[1.3163947196275723e-05, 1.3813921983480296e-05]\n"
     ]
    },
    {
     "data": {
      "text/plain": [
       "([82.40400000000001, 80.44200000000001],\n",
       " [0.0005528857822435804, 0.0005663708013226921],\n",
       " 1.9081770000500887e-05,\n",
       " 0.0005596282917831362,\n",
       " 0.034097221817897906)"
      ]
     },
     "execution_count": 48,
     "metadata": {},
     "output_type": "execute_result"
    }
   ],
   "source": [
    "# показания манометра при пробулькивании в спирте (открыт нижний кран)\n",
    "manom_spirt = [42, 41]\n",
    "p_spirt     = [0.2 * 9.81 * manom for manom in manom_spirt]\n",
    "r_igla      = [2 * sigma_spirt / delta_p for delta_p in p_spirt]\n",
    "sigma_r_igla = [2 * sigma_spirt / delta_p**2 * p_error for delta_p in p_spirt]\n",
    "print(sigma_r_igla)\n",
    "sigma_r_igla = np.sqrt(sigma_r_igla[0]**2 + sigma_r_igla[1]**2)\n",
    "p_spirt, r_igla, sigma_r_igla, np.mean(r_igla), sigma_r_igla / np.mean(r_igla)"
   ]
  },
  {
   "cell_type": "code",
   "execution_count": 49,
   "metadata": {},
   "outputs": [],
   "source": [
    "r_igla = np.mean(r_igla)"
   ]
  },
  {
   "cell_type": "markdown",
   "metadata": {},
   "source": [
    "Внутренний диаметр иглы по микроскопу\n"
   ]
  },
  {
   "cell_type": "code",
   "execution_count": 50,
   "metadata": {},
   "outputs": [
    {
     "data": {
      "text/plain": [
       "0.000575"
      ]
     },
     "execution_count": 50,
     "metadata": {},
     "output_type": "execute_result"
    }
   ],
   "source": [
    "d_precise = 1.15 # мм\n",
    "r_precise = d_precise / 2 * 0.001 # м\n",
    "r_precise # м"
   ]
  },
  {
   "cell_type": "markdown",
   "metadata": {},
   "source": [
    "Погрузили иглу в воду (касается) и открыли аспиратор"
   ]
  },
  {
   "cell_type": "markdown",
   "metadata": {},
   "source": [
    "*T = 23.1 C, расстояние h1 = 2 см*"
   ]
  },
  {
   "cell_type": "code",
   "execution_count": 51,
   "metadata": {},
   "outputs": [
    {
     "data": {
      "text/plain": [
       "230.53500000000003"
      ]
     },
     "execution_count": 51,
     "metadata": {},
     "output_type": "execute_result"
    }
   ],
   "source": [
    "h1 = 2 * 0.01                # м\n",
    "manom_water   = [118, 117]   # показания манометра в момент пузырика\n",
    "\n",
    "delta_p_water = [0.2 * 9.81 * manom for manom in manom_water] # P1 - перепад давлений в Па\n",
    "\n",
    "P1 = np.mean(delta_p_water)\n",
    "P1"
   ]
  },
  {
   "cell_type": "markdown",
   "metadata": {},
   "source": [
    "Утопили иглу в воду"
   ]
  },
  {
   "cell_type": "markdown",
   "metadata": {},
   "source": [
    "*T = 23.1 C, расстояние h2 = 0.75 см*"
   ]
  },
  {
   "cell_type": "code",
   "execution_count": 52,
   "metadata": {},
   "outputs": [
    {
     "data": {
      "text/plain": [
       "344.331"
      ]
     },
     "execution_count": 52,
     "metadata": {},
     "output_type": "execute_result"
    }
   ],
   "source": [
    "h2 = 0.75 * 0.01\n",
    "manom_drown_water = [177, 174]\n",
    "\n",
    "delta_p_drown_water = [0.2 * 9.81 * manom for manom in manom_drown_water] # P2\n",
    "P2 = np.mean(delta_p_drown_water)\n",
    "P2\n"
   ]
  },
  {
   "cell_type": "code",
   "execution_count": 53,
   "metadata": {},
   "outputs": [
    {
     "data": {
      "text/plain": [
       "0.0116"
      ]
     },
     "execution_count": 53,
     "metadata": {},
     "output_type": "execute_result"
    }
   ],
   "source": [
    "(P2 - P1) / 1000 / 9.81"
   ]
  },
  {
   "cell_type": "code",
   "execution_count": 54,
   "metadata": {},
   "outputs": [
    {
     "data": {
      "text/plain": [
       "(113.79599999999999, 2.7746870093760125)"
      ]
     },
     "execution_count": 54,
     "metadata": {},
     "output_type": "execute_result"
    }
   ],
   "source": [
    "extra_p = P2 - P1 # rho g h\n",
    "extra_p_error = np.sqrt(p_error**2 + p_error**2)\n",
    "extra_p, extra_p_error"
   ]
  },
  {
   "cell_type": "markdown",
   "metadata": {},
   "source": [
    "$$\\Delta P = P - \\rho g h$$"
   ]
  },
  {
   "cell_type": "markdown",
   "metadata": {},
   "source": [
    "*скорее всего не надо включать T = 23 в график т к мы открывали кран аспиратора и выставляли 0 в манометре*"
   ]
  },
  {
   "cell_type": "code",
   "execution_count": 55,
   "metadata": {},
   "outputs": [
    {
     "name": "stdout",
     "output_type": "stream",
     "text": [
      "[296.25, 301.15, 305.95, 311.65, 316.84999999999997, 322.65, 327.65]\n"
     ]
    }
   ],
   "source": [
    "Ts       = [23.1, 28, 32.8, 38.5, 43.7, 49.5, 54.5] # C\n",
    "Ts       = [T + 273.15 for T in Ts] # C\n",
    "Ts_error = [0.2 for T in Ts]\n",
    "print(Ts)"
   ]
  },
  {
   "cell_type": "code",
   "execution_count": 56,
   "metadata": {},
   "outputs": [
    {
     "name": "stdout",
     "output_type": "stream",
     "text": [
      "[175.5, 171.5, 169.33333333333334, 167.66666666666666, 166.66666666666666, 165.33333333333334, 164.0]\n",
      "[344.331, 336.483, 332.232, 328.962, 327.0, 324.38400000000007, 321.76800000000003]\n",
      "[230.53500000000003, 222.687, 218.43600000000004, 215.166, 213.204, 210.58800000000008, 207.97200000000004]\n"
     ]
    },
    {
     "data": {
      "text/plain": [
       "([230.53500000000003,\n",
       "  222.687,\n",
       "  218.43600000000004,\n",
       "  215.166,\n",
       "  213.204,\n",
       "  210.58800000000008,\n",
       "  207.97200000000004],\n",
       " 3.398283684450137)"
      ]
     },
     "execution_count": 56,
     "metadata": {},
     "output_type": "execute_result"
    }
   ],
   "source": [
    "manoms   = [np.mean([177, 174]),\n",
    "            np.mean([171, 172]),\n",
    "            np.mean([169, 170, 169]),\n",
    "            np.mean([168, 168, 167]),\n",
    "            np.mean([167, 167, 166]),\n",
    "            np.mean([166, 165, 165]),\n",
    "            np.mean([164, 164, 164])]\n",
    "\n",
    "print(manoms)\n",
    "ps       = [cvt_P(manom) for manom in manoms]\n",
    "print(ps)\n",
    "delta_ps = [p - extra_p for p in ps]\n",
    "print(delta_ps)\n",
    "delta_p_error = np.sqrt(p_error**2 + extra_p_error**2)\n",
    "delta_ps, delta_p_error"
   ]
  },
  {
   "cell_type": "code",
   "execution_count": 57,
   "metadata": {},
   "outputs": [
    {
     "name": "stdout",
     "output_type": "stream",
     "text": [
      "[0.06450695412311266, 0.06231097270615563, 0.06112148277197058, 0.06020649051490514, 0.05965749516066589, 0.058925501355013565, 0.058193507549361215]\n",
      "[0.0024067357400758167, 0.0023385035705999974, 0.0023017169827806625, 0.0022735069234904714, 0.0022566186546969097, 0.0022341463566666387, 0.0022117273864952157]\n"
     ]
    }
   ],
   "source": [
    "# радиус иглы под микроскопом\n",
    "# sigmas = [r_precise * p / 2 for p in delta_ps]\n",
    "# sigma_errors = [np.sqrt((r_prcs_error * p / 2)**2 + (delta_p_error * r_precise / 2)**2) for p in delta_ps]\n",
    "# sigmas, sigma_errors\n",
    "\n",
    "sigmas = [r_igla * p / 2 for p in delta_ps]\n",
    "print(sigmas)\n",
    "sigma_errors = [np.sqrt((sigma_r_igla * p / 2)**2 + (delta_p_error * r_precise / 2)**2) for p in delta_ps]\n",
    "print(sigma_errors)"
   ]
  },
  {
   "cell_type": "code",
   "execution_count": 70,
   "metadata": {},
   "outputs": [
    {
     "data": {
      "image/png": "[encoded data removed]",
      "text/plain": [
       "<Figure size 640x480 with 1 Axes>"
      ]
     },
     "metadata": {},
     "output_type": "display_data"
    },
    {
     "data": {
      "text/plain": [
       "(-0.00014732782609602925, 1.0093558928599255e-05)"
      ]
     },
     "execution_count": 70,
     "metadata": {},
     "output_type": "execute_result"
    }
   ],
   "source": [
    "plt.title ('$\\sigma(T)$')\n",
    "plt.xlabel ('T, K')\n",
    "plt.ylabel ('$\\\\sigma, \\\\frac{Н}{м}$')\n",
    "\n",
    "plt.errorbar(x = Ts, y = sigmas, xerr = Ts_error, yerr = sigma_errors, marker='.', ls = \"None\")\n",
    "plt.annotate('ошибка при измерениях\\n(наполнили аспиратор водой)',\n",
    "            xy=(Ts[0], sigmas[0]),\n",
    "            xytext=(0.50, 0.9), textcoords='axes fraction',\n",
    "            arrowprops=dict(arrowstyle=\"->\", facecolor='black'),\n",
    "            horizontalalignment='right', verticalalignment='top')\n",
    "\n",
    "k, b, kerr, berr = LeastSquares (Ts[1:], sigmas[1:])\n",
    "x = np.array([min(Ts[1:]), max(Ts[1:])])\n",
    "plt.plot(x, k * x + b)\n",
    "plt.grid(visible=True)\n",
    "plt.show()\n",
    "k, kerr"
   ]
  },
  {
   "cell_type": "code",
   "execution_count": 59,
   "metadata": {},
   "outputs": [],
   "source": [
    "dsigmadt = k\n",
    "dsigmadt_err = kerr"
   ]
  },
  {
   "cell_type": "markdown",
   "metadata": {},
   "source": [
    "Теплота образования пленки"
   ]
  },
  {
   "cell_type": "code",
   "execution_count": 66,
   "metadata": {},
   "outputs": [
    {
     "data": {
      "text/plain": [
       "[6.851420557855706,\n",
       " 6.851409822200505,\n",
       " 6.851399801797525,\n",
       " 6.8513884986861076,\n",
       " 6.851378714636369,\n",
       " 6.851368354865969,\n",
       " 6.851359862024404]"
      ]
     },
     "execution_count": 66,
     "metadata": {},
     "output_type": "execute_result"
    }
   ],
   "source": [
    "qs = [-T * dsigmadt for T in Ts]\n",
    "\n",
    "q_errors = [np.sqrt((Ts_error[i] * dsigmadt)**2 + (dsigmadt_err * Ts[i])**2) for i in range(len(Ts))]\n",
    "eps_q = [q_errors[i] / qs[i] * 100 for i in range(len(qs))]\n",
    "eps_q"
   ]
  },
  {
   "cell_type": "code",
   "execution_count": 61,
   "metadata": {},
   "outputs": [
    {
     "name": "stderr",
     "output_type": "stream",
     "text": [
      "/tmp/ipykernel_6832/3048320456.py:15: RuntimeWarning: invalid value encountered in sqrt\n",
      "  sigma_k = np.sqrt(1/(N-2) * ( (mu2 - mu**2)/(mv2 - mv**2) - k**2 ) )\n"
     ]
    },
    {
     "data": {
      "image/png": "[encoded data removed]",
      "text/plain": [
       "<Figure size 640x480 with 1 Axes>"
      ]
     },
     "metadata": {},
     "output_type": "display_data"
    },
    {
     "data": {
      "text/plain": [
       "(0.00014732782609602925, nan)"
      ]
     },
     "execution_count": 61,
     "metadata": {},
     "output_type": "execute_result"
    }
   ],
   "source": [
    "plt.title ('$q(T)$')\n",
    "plt.xlabel ('T, K')\n",
    "plt.ylabel ('$q, \\\\frac{Дж}{м^2}$')\n",
    "\n",
    "plt.errorbar(x = Ts, y = qs, xerr = Ts_error, yerr = q_errors, marker='.', ls = \"None\")\n",
    "plt.annotate('ошибка при измерениях\\n(наполнили аспиратор водой)',\n",
    "            xy=(Ts[0], qs[0]),\n",
    "            xytext=(0.50, 0.9), textcoords='axes fraction',\n",
    "            arrowprops=dict(arrowstyle=\"->\", facecolor='black'),\n",
    "            horizontalalignment='right', verticalalignment='top')\n",
    "\n",
    "k, b, kerr, berr = LeastSquares (Ts[1:], qs[1:])\n",
    "x = np.array([min(Ts[1:]), max(Ts[1:])])\n",
    "plt.plot(x, k * x + b)\n",
    "plt.grid(visible=True)\n",
    "plt.show()\n",
    "k, kerr"
   ]
  },
  {
   "cell_type": "markdown",
   "metadata": {},
   "source": [
    "Поверхностая энергия на единицу площади"
   ]
  },
  {
   "cell_type": "markdown",
   "metadata": {},
   "source": [
    "$$\\frac{U}{F} = \\sigma - T \\frac{d\\sigma}{dT}$$"
   ]
  },
  {
   "cell_type": "code",
   "execution_count": 62,
   "metadata": {},
   "outputs": [
    {
     "data": {
      "text/plain": [
       "[3.549211938890104,\n",
       " 3.595133630012963,\n",
       " 3.6269199549552287,\n",
       " 3.657467062758344,\n",
       " 3.6809366011121685,\n",
       " 3.7097840387883183,\n",
       " 3.737059433846346]"
      ]
     },
     "execution_count": 62,
     "metadata": {},
     "output_type": "execute_result"
    }
   ],
   "source": [
    "U_F = [sigmas[i] - Ts[i]*dsigmadt for i in range (len(Ts))]\n",
    "U_F_err = [np.sqrt(\n",
    "    (sigma_errors[i])**2 +\n",
    "    (dsigmadt_err * Ts[i])**2 +\n",
    "    (Ts_error[i]*dsigmadt)**2\n",
    ") for i in range (len(Ts))]\n",
    "\n",
    "eps_U_F = [U_F_err[i] / U_F [i] * 100 for i in range (len(Ts))]\n",
    "eps_U_F\n",
    "\n"
   ]
  },
  {
   "cell_type": "code",
   "execution_count": 72,
   "metadata": {},
   "outputs": [
    {
     "data": {
      "image/png": "[encoded data removed]",
      "text/plain": [
       "<Figure size 640x480 with 1 Axes>"
      ]
     },
     "metadata": {},
     "output_type": "display_data"
    },
    {
     "data": {
      "text/plain": [
       "(0.0, 1.0093558928663253e-05)"
      ]
     },
     "execution_count": 72,
     "metadata": {},
     "output_type": "execute_result"
    }
   ],
   "source": [
    "plt.title ('$\\\\frac{U}{F} (T)$')\n",
    "plt.xlabel ('T, K')\n",
    "plt.ylabel ('$\\\\frac{U}{F}, \\\\frac{Дж}{м^2}$')\n",
    "\n",
    "plt.errorbar(x = Ts, y = U_F, xerr = Ts_error, yerr = U_F_err, marker='.', ls = \"None\")\n",
    "plt.annotate('ошибка при измерениях\\n(наполнили аспиратор водой)',\n",
    "            xy=(Ts[0], U_F[0]),\n",
    "            xytext=(0.50, 0.9), textcoords='axes fraction',\n",
    "            arrowprops=dict(arrowstyle=\"->\", facecolor='black'),\n",
    "            horizontalalignment='right', verticalalignment='top')\n",
    "\n",
    "k, b, kerr, berr = LeastSquares (Ts[1:], U_F[1:])\n",
    "x = np.array([min(Ts[1:]), max(Ts[1:])])\n",
    "plt.plot(x, k * x + b)\n",
    "plt.grid(visible=True)\n",
    "plt.show()\n",
    "k, kerr"
   ]
  },
  {
   "cell_type": "code",
   "execution_count": 81,
   "metadata": {},
   "outputs": [
    {
     "data": {
      "text/plain": [
       "(0.1063768328820956, 0.003901631057091565)"
      ]
     },
     "execution_count": 81,
     "metadata": {},
     "output_type": "execute_result"
    }
   ],
   "source": [
    "U_F_mean = np.mean (U_F[1:])\n",
    "U_F_mean_err = np.sqrt((np.std (U_F) / np.sqrt (len (U_F) - 1))**2 + np.mean(U_F_err)**2)\n",
    "U_F_mean, U_F_mean_err"
   ]
  },
  {
   "cell_type": "markdown",
   "metadata": {},
   "source": [
    "Tex "
   ]
  },
  {
   "cell_type": "markdown",
   "metadata": {},
   "source": [
    "\\documentclass{article}\n",
    "\\usepackage{graphicx} % Required for inserting images\n",
    "\n",
    "\\title{2.5.1}\n",
    "\n",
    "\\usepackage[T2A]{fontenc}\n",
    "\\usepackage[utf8]{inputenc}\n",
    "\\usepackage[english, russian]{babel}\n",
    "\\usepackage{graphicx}%Вставка картинок правильная\n",
    "\\input{insbox}\n",
    "\\usepackage{blindtext}\n",
    "\n",
    "\\usepackage{float}%\"Плавающие\" картинки\n",
    "\n",
    "\\usepackage{wrapfig}\n",
    "\n",
    "% Set page size and margins\n",
    "% Replace `letterpaper' with `a4paper' for UK/EU standard size\n",
    "\\usepackage[letterpaper,top=2cm,bottom=2cm,left=3cm,right=3cm,marginparwidth=1.75cm]{geometry}\n",
    "\n",
    "% Useful packages\n",
    "\\usepackage{amsmath}\n",
    "\\usepackage{graphicx}\n",
    "\\usepackage[colorlinks=true, allcolors=blue]{hyperref}\n",
    "\n",
    "\\author{Тихонов Ярослав Б01-306}\n",
    "\\date{Февраль 2024}\n",
    "\\title{\\begin{center}Отчет о выполнении лабораторной работы 2.5.1\\end{center}\n",
    "\\textbf{Измерение коэффициента поверхностного натяжения жидкости}}\n",
    "\n",
    "\\begin{document}\n",
    "\n",
    "\\maketitle\n",
    "\\section{Аннотация}\n",
    "    \\subsection{Цель}\n",
    "   \n",
    "    измерить температурную зависимость коэффициента поверхностного натяжения дистиллированной воды с использованием коэффициента поверхностного натяжения спирта;определить удельную полную поверхностную энергию и теплоту, необходимые для изотермического образования единицы поверхности жидкости при различной температуре\n",
    "\n",
    "    \\subsection{Оборудование}\n",
    "    \n",
    "    прибор Ребиндера, термостатом , микроманометром\n",
    "\n",
    "\\section{Ход работы}\n",
    "    \\subsection{Теоретические сведения}\n",
    "   \n",
    "    Наличие поверхностного слоя приводит к различию давлений по разные стороны от искривленной границы раздела двух сред. Для сферического пузырька с воздухом в идкости избыточное давление даётся формулой Лапласа(эта формула лежит в основе метода определения коэффициента поверхностного натяжения жидкости) :\n",
    "\n",
    "\\begin{equation}\\label{1}\n",
    "    \\Delta P = P_\\text{внутр} - P_\\text{снар} = \\frac{2 \\sigma}{r}\n",
    "\\end{equation}\n",
    "\n",
    "    где $\\sigma$ - коэффициент поверхностного натяжения,  $r$ - радиус кривизны поверхности раздела двух сред\n",
    "\n",
    "    \\subsection{Экспериментальная установка}\n",
    "\n",
    "    \\begin{figure}\n",
    "        \\centering\n",
    "        \\includegraphics[width=0.5\\linewidth]{ustanovka.png}\n",
    "        \\caption{экспериментальная установка}\n",
    "        \\label{fig:p1}\n",
    "    \\end{figure}\n",
    "    \n",
    "    На рис.\\ref{fig:p1} представлена схема экспериментальной установки. Дистиллированная вода наливается в сосуд $B$; этиловый спирт наливается  в сосуд $E$.  При измерениях  колбы герметично закрываются  пробками.   Через одну из двух пробок  проходит полая металлическая игла ;этой пробкой закрывается сосуд, в котором  проводятся измерения. Верхний конец иглы открыт в атмосферу, а нижний погружен в жидкость. При создании достаточного  разряжения воздуха в колбе с иглой пузырьки воздуха начинают пробулькивать через жидкость. Поверхностное натяжение можно определить по величине разряжения $\\Delta P$\n",
    "\n",
    "    Разряжение в системе создается с помощью аспиратора $A$. В колбах $B$ и $C$, соединённых трубками с нижней полостью аспиратора,  создается пониженное давление. Разность давлений в полостях с разряженным воздухом и атмосферой измеряется спиртовым микроманометром. Для стабилизации температуры через рубашку $D$ колбы $B$ непрерывно прогоняется вода из термостата.\n",
    "\n",
    "    Кончик иглы касается поверхности жидкости, чтобы исключить влияние гидростатического давления столба жидкости. Погрузив кончик трубки до самого дна, можно устранить погрешность, вносимую высокой теплопроводностью иглы, и погрешность, вызываемуютепловым расширениием. Тогда давление, измеренное микроманометром:\n",
    "\n",
    "\\begin{equation}\\label{2}\n",
    "    P = \\Delta P + \\rho g h\n",
    "\\end{equation}    \n",
    "    \n",
    "    $\\rho g h$ от температуры практически не зависит, так как подъём уровня жидкости компенсируется уменьшением её плотности. Величина  $\\rho g h$ измеряется двумя способами: сначала замеряется величина $P_1 = P'$( кончик трубки касается поверхности жидкости); затем при этой же температуре опускается игла до дна и замеряется $P_2 = \\rho g h + \\Delta P''$. Из-за несжимаемости  жидкости можно положить $P' = P''$ , тогда\n",
    "\n",
    "\\begin{equation}\\label{3}\n",
    "    \\rho g h = P_2 - P_1\n",
    "\\end{equation}\n",
    "\n",
    "\\section{Обработка измерений}\n",
    "\n",
    "Для перевода показаний микроманометра $N$ в Па, используем формулу\n",
    "$$P = 0.2 * 9.81 * N$$\n",
    "\n",
    "\\subsection{Измерение радиуса иглы}\n",
    "\\textbf{1 способ} \\\\\n",
    "\n",
    "Опустим иглу в спирт там чтобы ее кончик касался поверхности жидкости, после этого откроем аспиратор и запишем показания микроманометра в момент выхода пузырьков.\n",
    "\n",
    "Из $\\eqref{1}$:\n",
    "$$r = \\frac{2 \\sigma_{\\text{спирт}}}{P_1}$$\n",
    "\n",
    "\\begin{table}[!ht]\n",
    "    \\centering\n",
    "    \\begin{tabular}{|c|c|c|c|c|}\n",
    "    \\hline\n",
    "        $N$, дел & $P_1$, Па & $\\sigma_P$, Па & $r$, мм & $\\sigma_r$, мм\\\\ \\hline\n",
    "        42 & 82.40 & 1.96 & 0.55 & 0.01 \\\\ \\hline\n",
    "        41 & 80.44 & 1.96 & 0.57 & 0.01 \\\\ \\hline\n",
    "    \\end{tabular}\n",
    "\\end{table}\n",
    "\n",
    "$r = (0.56 \\pm 0.02)$ мм ($\\varepsilon = 3 \\% $)\\\\\n",
    "\n",
    "\\textbf{2 способ} \\\\\n",
    "Посмотрим на иглу под микроскопом.\n",
    "\n",
    "$r = (0.58 \\pm 0.05)$ мм ($\\varepsilon = 9 \\% $) \\\\\n",
    "\n",
    "\\begin{figure} \\label{igla}\n",
    "    \\centering\n",
    "    \\includegraphics[width=0.5\\linewidth]{igla.png}\n",
    "    \\caption{Игла под микроскопом}\n",
    "\\end{figure}\n",
    "\n",
    "Видим, что первый способ оказался точнее.\n",
    "\n",
    "\\subsection{Вычисление $\\rho g h$}\n",
    "Помыв от спирта и высушив иглу, погрузим ее в колбу с водой так чтобы кончик касался ее поверхности. Повторим измерения из 3.1 измерим $P_1$.\n",
    "\n",
    "Измерим $P_2$, опусив кончик иглы на дно колбы с водой и повторив измерения.\n",
    "$$P_2 - P_1 = \\rho g h$$\n",
    "$P_2 = 344.31 \\pm 1.96 $ Па \\\\\n",
    "$P_1 = 230.54 \\pm 1.96 $ Па \\\\\n",
    "$\\rho g h = 113.80 \\pm 2.77$ Па\n",
    "\n",
    "\\subsection{Зависимость $\\sigma(T)$}\n",
    "\n",
    "$$\\Delta P = P - \\rho g h$$\n",
    "\n",
    "Для каждого значения $T$ получали три давления и итоговое давление усредняли.\n",
    "\n",
    "\\begin{table}[!ht]\n",
    "    \\centering\n",
    "    \\begin{tabular}{|c|c|c|c|c|c|c|}\n",
    "    \\hline\n",
    "        $T$, K& $N$, дел & $P$, Па & $\\Delta P$ & $\\sigma$, $10^{-3}$ Н/м & $\\Delta \\sigma$, $10^{-3}$ Н/м & $\\varepsilon, \\%$ \\\\ \\hline\n",
    "        296.25 & 175.5 & 344.3 & 230.5 & 64.5 & 2.4 & 3.7 \\\\ \\hline\n",
    "        301.15 & 171.5 & 336.5 & 222.7 & 62.3 & 2.3 & 3.8 \\\\ \\hline\n",
    "        305.95 & 169.3 & 332.2 & 218.4 & 61.1 & 2.3 & 3.8 \\\\ \\hline\n",
    "        311.65 & 167.7 & 328.9 & 215.2 & 60.2 & 2.3 & 3.8 \\\\ \\hline\n",
    "        316.85 & 167.7 & 327 & 213.2 & 59.7 & 2.3 & 3.8 \\\\ \\hline\n",
    "        322.65 & 165.3 & 324.4 & 210.6 & 58.9 & 2.2 & 3.8 \\\\ \\hline\n",
    "        327.65 & 164 & 321.8 & 208.0 & 58.2 & 2.2 & 3.8 \\\\ \\hline\n",
    "    \\end{tabular}\n",
    "\\end{table}\n",
    "\n",
    "Первое значение при $T = 296.25 K$ мы убрали из рассмотрения т к после его измерения мы случайно наполнили аспиратор водой, вытеснив находившийся там воздух, вследствие чего поменялось давление в емкости с водой и иглой. \n",
    "\n",
    "\\begin{figure} [H]\n",
    "    \\centering\n",
    "    \\includegraphics[width=0.8\\linewidth]{graph.png}\n",
    "\\end{figure}\n",
    "\n",
    "Угловой коэффициент прямой  $\\frac{d \\sigma}{d T} = (-0.147 \\pm 0.010) ~10^{-3}$ Н/К \n",
    "\n",
    "\\subsection{Вычисление $q(T)$ - теплоты образования пленки}\n",
    "\n",
    "$$q(T) = - T \\frac{d\\sigma}{dT}$$\n",
    "\n",
    "\\begin{figure}[H]\n",
    "    \\centering\n",
    "    \\includegraphics[width=0.8\\linewidth]{qgraph1.png}\n",
    "    \n",
    "    \\label{fig:enter-label}\n",
    "\\end{figure}\n",
    "\n",
    "\\begin{table}[!ht]\n",
    "    \\centering\n",
    "    \\begin{tabular}{|c|c|c|c|}\n",
    "    \\hline\n",
    "        $T$, K& $q$, мДж/м$^2$ & $\\Delta q$, мДж/м$^2$ & $\\varepsilon$, $\\%$ \\\\ \\hline\n",
    "        296.25 & 43.6 & 3.0 & 6.9  \\\\ \\hline\n",
    "        301.15 & 44.4 & 3.0 & 6.9  \\\\ \\hline\n",
    "        305.95 & 45.1 & 3.1 & 6.9  \\\\ \\hline\n",
    "        311.65 & 45.9 & 3.1 & 6.9  \\\\ \\hline\n",
    "        316.85 & 46.7 & 3.2 & 6.9  \\\\ \\hline\n",
    "        322.65 & 47.5 & 3.3 & 6.9 \\\\ \\hline\n",
    "        327.65 & 48.3 & 3.3 & 6.9 \\\\ \\hline\n",
    "    \\end{tabular}\n",
    "\\end{table}\n",
    "\n",
    "\\subsection{Вычисление $\\frac{U}{F}(T)$ - удельной полной поверхностной энергии}\n",
    "\n",
    "\\begin{figure} [H]\n",
    "    \\centering\n",
    "    \\includegraphics[width=0.8\\linewidth]{UF_graph.png}\n",
    "    \n",
    "    \\label{fig:enter-label}\n",
    "\\end{figure}\n",
    "\n",
    "\\begin{table}[!ht]\n",
    "    \\centering\n",
    "    \\begin{tabular}{|c|c|c|c|}\n",
    "    \\hline\n",
    "        $T$, K& $\\frac{U}{F}$, мДж/м$^2$ & $\\Delta \\frac{U}{F}$, мДж/м$^2$ & $\\varepsilon$, $\\%$ \\\\ \\hline\n",
    "        296.25 & 108.2 & 3.8 & 3.5  \\\\ \\hline\n",
    "        301.15 & 106.7 & 3.8 & 3.6  \\\\ \\hline\n",
    "        305.95 & 106.2 & 3.9 & 3.6  \\\\ \\hline\n",
    "        311.65 & 106.1 & 3.9 & 3.7  \\\\ \\hline\n",
    "        316.85 & 106.3 & 3.9 & 3.7  \\\\ \\hline\n",
    "        322.65 & 106.5 & 3.9 & 3.7 \\\\ \\hline\n",
    "        327.65 & 106.5 & 4.0 & 3.7 \\\\ \\hline\n",
    "    \\end{tabular}\n",
    "\\end{table}\n",
    "\n",
    "\n",
    "\\section{Вывод}\n",
    "В ходе работы: \\\\\n",
    "- была измерена температурная зависимость коэффициента поверхностного натяжения дистиллированной воды с использованием коэффициента поверхностного натяжения спирта \\\\\n",
    "\\begin{table}[!ht]\n",
    "    \\centering\n",
    "    \\begin{tabular}{|c|c|c|c|}\n",
    "    \\hline\n",
    "        $T$, K& $\\sigma$, $10^{-3}$ Н/м & $\\Delta \\sigma$, $10^{-3}$ Н/м & $\\varepsilon, \\%$ \\\\ \\hline\n",
    "        296.25 &  64.5 & 2.4 & 3.7 \\\\ \\hline\n",
    "        301.15 &  62.3 & 2.3 & 3.8 \\\\ \\hline\n",
    "        305.95 &  61.1 & 2.3 & 3.8 \\\\ \\hline\n",
    "        311.65 &  60.2 & 2.3 & 3.8 \\\\ \\hline\n",
    "        316.85 &  59.7 & 2.3 & 3.8 \\\\ \\hline\n",
    "        322.65 &  58.9 & 2.2 & 3.8 \\\\ \\hline\n",
    "        327.65 &  58.2 & 2.2 & 3.8 \\\\ \\hline\n",
    "    \\end{tabular}\n",
    "\\end{table}\n",
    "\n",
    "- определили теплоту, необходимую для изотермического образования единицы поверхности жидкости при различной температуре \\\\\n",
    "\n",
    "\\begin{table}[!ht]\n",
    "    \\centering\n",
    "    \\begin{tabular}{|c|c|c|c|}\n",
    "    \\hline\n",
    "        $T$, K& $q$, мДж/м$^2$ & $\\Delta q$, мДж/м$^2$ & $\\varepsilon$, $\\%$ \\\\ \\hline\n",
    "        296.25 & 43.6 & 3.0 & 6.9  \\\\ \\hline\n",
    "        301.15 & 44.4 & 3.0 & 6.9  \\\\ \\hline\n",
    "        305.95 & 45.1 & 3.1 & 6.9  \\\\ \\hline\n",
    "        311.65 & 45.9 & 3.1 & 6.9  \\\\ \\hline\n",
    "        316.85 & 46.7 & 3.2 & 6.9  \\\\ \\hline\n",
    "        322.65 & 47.5 & 3.3 & 6.9 \\\\ \\hline\n",
    "        327.65 & 48.3 & 3.3 & 6.9 \\\\ \\hline\n",
    "    \\end{tabular}\n",
    "\\end{table}\n",
    "\n",
    "- определили удельную полную поверхностную энергию \\\\\n",
    "$$\\frac{U}{F} = (106.38 \\pm 3.90) ~\\text{мДж/м}^2 $$ \n",
    "не зависит от температуры\n",
    "\n",
    "\n",
    "\\end{document}"
   ]
  }
 ],
 "metadata": {
  "kernelspec": {
   "display_name": "Python 3",
   "language": "python",
   "name": "python3"
  },
  "language_info": {
   "codemirror_mode": {
    "name": "ipython",
    "version": 3
   },
   "file_extension": ".py",
   "mimetype": "text/x-python",
   "name": "python",
   "nbconvert_exporter": "python",
   "pygments_lexer": "ipython3",
   "version": "3.10.12"
  }
 },
 "nbformat": 4,
 "nbformat_minor": 2
}
