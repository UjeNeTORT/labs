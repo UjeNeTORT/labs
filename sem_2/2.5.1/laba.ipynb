{
 "cells": [
  {
   "cell_type": "code",
   "execution_count": 74,
   "metadata": {},
   "outputs": [],
   "source": [
    "import numpy as np\n",
    "import matplotlib.pyplot as plt"
   ]
  },
  {
   "cell_type": "code",
   "execution_count": 92,
   "metadata": {},
   "outputs": [],
   "source": [
    "def LeastSquares(x_arr, y_arr): # returns [k, b, sigma_k, sigma b]\n",
    "    v = x_arr\n",
    "    u = y_arr\n",
    "\n",
    "    N = len(v)\n",
    "\n",
    "    mu = np.mean(u) # средее\n",
    "    mv = np.mean(v)\n",
    "    mv2 = np.mean([v_i**2 for v_i in v]) # средний квадрат\n",
    "    mu2 = np.mean([u_i**2 for u_i in u])\n",
    "    muv = np.mean ([u[i] * v[i] for i in range(len(u))]) # среднее от произведения\n",
    "    k = (muv - mu * mv) / (mv2 - mv**2)\n",
    "    b = mu - k * mv\n",
    "\n",
    "    sigma_k = np.sqrt(1/(N-2) * ( (mu2 - mu**2)/(mv2 - mv**2) - k**2 ) )\n",
    "    sigma_b = sigma_k * np.sqrt(mv2)\n",
    "\n",
    "    return (k, b, sigma_k, sigma_b)"
   ]
  },
  {
   "cell_type": "code",
   "execution_count": 75,
   "metadata": {},
   "outputs": [],
   "source": [
    "def cvt_P(manom):\n",
    "    return 0.2 * 9.81 * manom"
   ]
  },
  {
   "cell_type": "markdown",
   "metadata": {},
   "source": [
    "Оценка диаметра иглы по формуле лапласа"
   ]
  },
  {
   "cell_type": "code",
   "execution_count": 76,
   "metadata": {},
   "outputs": [],
   "source": [
    "sigma_spirt = 22.78 * 1e-3"
   ]
  },
  {
   "cell_type": "code",
   "execution_count": 77,
   "metadata": {},
   "outputs": [
    {
     "data": {
      "text/plain": [
       "[0.0005528857822435804, 0.0005663708013226921]"
      ]
     },
     "execution_count": 77,
     "metadata": {},
     "output_type": "execute_result"
    }
   ],
   "source": [
    "# показания манометра при пробулькивании в спирте (открыт нижний кран)\n",
    "manom_spirt = [42, 41, ]\n",
    "p_spirt     = [0.2 * 9.81 * i for i in manom_spirt]\n",
    "r_igla      = [2 * sigma_spirt / delta_p for delta_p in p_spirt]\n",
    "r_igla"
   ]
  },
  {
   "cell_type": "markdown",
   "metadata": {},
   "source": [
    "Внутренний диаметр иглы по микроскопу\n"
   ]
  },
  {
   "cell_type": "code",
   "execution_count": 78,
   "metadata": {},
   "outputs": [
    {
     "data": {
      "text/plain": [
       "0.575"
      ]
     },
     "execution_count": 78,
     "metadata": {},
     "output_type": "execute_result"
    }
   ],
   "source": [
    "d_precise = 1.15 # чего???\n",
    "r_precise = d_precise / 2 # мм\n",
    "r_precise"
   ]
  },
  {
   "cell_type": "markdown",
   "metadata": {},
   "source": [
    "Погрузили иглу в воду (касается) и открыли аспиратор"
   ]
  },
  {
   "cell_type": "markdown",
   "metadata": {},
   "source": [
    "*T = 23.1 C, расстояние h1 = 2 см*"
   ]
  },
  {
   "cell_type": "code",
   "execution_count": 79,
   "metadata": {},
   "outputs": [
    {
     "data": {
      "text/plain": [
       "230.53500000000003"
      ]
     },
     "execution_count": 79,
     "metadata": {},
     "output_type": "execute_result"
    }
   ],
   "source": [
    "h1 = 2 * 0.01\n",
    "manom_water   = [118, 117]   # показания манометра в момент пузырика\n",
    "delta_p_water = [0.2 * 9.81 * manom for manom in manom_water] # P1 - перепад давлений в Па\n",
    "P1 = np.mean(delta_p_water)\n",
    "P1"
   ]
  },
  {
   "cell_type": "markdown",
   "metadata": {},
   "source": [
    "Утопили иглу в воду"
   ]
  },
  {
   "cell_type": "markdown",
   "metadata": {},
   "source": [
    "*T = 23.1 C, расстояние h2 = 0.75 см*"
   ]
  },
  {
   "cell_type": "code",
   "execution_count": 80,
   "metadata": {},
   "outputs": [
    {
     "data": {
      "text/plain": [
       "344.331"
      ]
     },
     "execution_count": 80,
     "metadata": {},
     "output_type": "execute_result"
    }
   ],
   "source": [
    "h2 = 0.75 * 0.01\n",
    "manom_drown_water = [177, 174]\n",
    "delta_p_drown_water = [0.2 * 9.81 * manom for manom in manom_drown_water] # P2\n",
    "P2 = np.mean(delta_p_drown_water)\n",
    "P2\n"
   ]
  },
  {
   "cell_type": "code",
   "execution_count": 81,
   "metadata": {},
   "outputs": [
    {
     "data": {
      "text/plain": [
       "0.0116"
      ]
     },
     "execution_count": 81,
     "metadata": {},
     "output_type": "execute_result"
    }
   ],
   "source": [
    "(P2 - P1) / 1000 / 9.81"
   ]
  },
  {
   "cell_type": "code",
   "execution_count": 82,
   "metadata": {},
   "outputs": [
    {
     "data": {
      "text/plain": [
       "113.79599999999999"
      ]
     },
     "execution_count": 82,
     "metadata": {},
     "output_type": "execute_result"
    }
   ],
   "source": [
    "extra_p = P2 - P1 # rho g h\n",
    "extra_p"
   ]
  },
  {
   "cell_type": "markdown",
   "metadata": {},
   "source": [
    "$$\\Delta P = P - \\rho g h$$"
   ]
  },
  {
   "cell_type": "markdown",
   "metadata": {},
   "source": [
    "*скорее всего не надо включать T = 23 в график т к мы открывали кран аспиратора и выставляли 0 в манометре*"
   ]
  },
  {
   "cell_type": "code",
   "execution_count": 83,
   "metadata": {},
   "outputs": [
    {
     "data": {
      "text/plain": [
       "[230.53500000000003,\n",
       " 222.687,\n",
       " 218.43600000000004,\n",
       " 215.166,\n",
       " 213.204,\n",
       " 210.58800000000008,\n",
       " 207.97200000000004]"
      ]
     },
     "execution_count": 83,
     "metadata": {},
     "output_type": "execute_result"
    }
   ],
   "source": [
    "Ts       = [23.1, 28, 32.8, 38.5, 43.7, 49.5, 54.5] # C\n",
    "\n",
    "manoms   = [np.mean([177, 174]),\n",
    "            np.mean([171, 172]),\n",
    "            np.mean([169, 170, 169]),\n",
    "            np.mean([168, 168, 167]),\n",
    "            np.mean([167, 167, 166]),\n",
    "            np.mean([166, 165, 165]),\n",
    "            np.mean([164, 164, 164])]\n",
    "\n",
    "ps       = [cvt_P(manom) for manom in manoms]\n",
    "delta_ps = [p - extra_p for p in ps]\n",
    "delta_ps"
   ]
  },
  {
   "cell_type": "code",
   "execution_count": 125,
   "metadata": {},
   "outputs": [
    {
     "data": {
      "image/png": "[encoded data removed]",
      "text/plain": [
       "<Figure size 640x480 with 1 Axes>"
      ]
     },
     "metadata": {},
     "output_type": "display_data"
    }
   ],
   "source": [
    "plt.scatter(Ts, delta_ps, marker='.')\n",
    "\n",
    "plt.annotate('ошибка при измерениях',\n",
    "            xy=(Ts[0], delta_ps[0]),\n",
    "            xytext=(0.50, 0.9), textcoords='axes fraction',\n",
    "            arrowprops=dict(arrowstyle=\"->\", facecolor='black'),\n",
    "            horizontalalignment='right', verticalalignment='top')\n",
    "\n",
    "k, b, kerr, berr = LeastSquares (Ts[1:], delta_ps[1:])\n",
    "x = np.array([min(Ts[1:]), max(Ts[1:])])\n",
    "plt.plot(x, k * x + b)\n",
    "plt.grid(visible=True)\n",
    "plt.show()"
   ]
  }
 ],
 "metadata": {
  "kernelspec": {
   "display_name": "Python 3",
   "language": "python",
   "name": "python3"
  },
  "language_info": {
   "codemirror_mode": {
    "name": "ipython",
    "version": 3
   },
   "file_extension": ".py",
   "mimetype": "text/x-python",
   "name": "python",
   "nbconvert_exporter": "python",
   "pygments_lexer": "ipython3",
   "version": "3.10.12"
  }
 },
 "nbformat": 4,
 "nbformat_minor": 2
}
