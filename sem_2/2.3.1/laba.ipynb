{
 "cells": [
  {
   "cell_type": "code",
   "execution_count": 23,
   "metadata": {},
   "outputs": [],
   "source": [
    "T_ROOM = 21.7 + 273.15 # K\n",
    "P_ATM = 99 * 1e3 # Pa\n",
    "V_CAPILLAR = 50 * 1e-6 # m^3\n",
    "R = 8.31\n",
    "g = 9.81\n",
    "RHO_MASLO = 885 # si"
   ]
  },
  {
   "cell_type": "markdown",
   "metadata": {},
   "source": [
    "заполнили установку воздухом, заперли объем газа в части. Откачали воздух"
   ]
  },
  {
   "cell_type": "code",
   "execution_count": 24,
   "metadata": {},
   "outputs": [],
   "source": [
    "delta_h1 = 37.9 - 11.7 # см = h1 - h2\n",
    "delta_h1 *= 0.01\n",
    "\n",
    "delta_h2 = -16.5 + 33.8 # см = h4 - h3\n",
    "delta_h2 *= 0.01\n"
   ]
  },
  {
   "cell_type": "code",
   "execution_count": 25,
   "metadata": {},
   "outputs": [
    {
     "data": {
      "text/plain": [
       "0.0021761640400366697"
      ]
     },
     "execution_count": 25,
     "metadata": {},
     "output_type": "execute_result"
    }
   ],
   "source": [
    "delta_p1 = delta_h1 * g * RHO_MASLO\n",
    "delta_p2 = delta_h2 * g * RHO_MASLO\n",
    "\n",
    "nu_R_T = P_ATM * V_CAPILLAR\n",
    "v_forvacuum = nu_R_T / delta_p1\n",
    "v_forvacuum\n"
   ]
  },
  {
   "cell_type": "code",
   "execution_count": 26,
   "metadata": {},
   "outputs": [
    {
     "data": {
      "text/plain": [
       "0.0011195294772442985"
      ]
     },
     "execution_count": 26,
     "metadata": {},
     "output_type": "execute_result"
    }
   ],
   "source": [
    "v_sum = nu_R_T / delta_p2\n",
    "v_highvacuum = v_sum - v_forvacuum\n",
    "v_highvacuum"
   ]
  },
  {
   "cell_type": "markdown",
   "metadata": {},
   "source": [
    "провели дегазицию"
   ]
  },
  {
   "cell_type": "code",
   "execution_count": null,
   "metadata": {},
   "outputs": [],
   "source": [
    "p_lim1 = 5.2 * 1e-5 # torr\n",
    "# ждали до 6 * 1e-4\n",
    "p_lim2 = 4.5 * 1e-5 # torr\n",
    "\n",
    "p_lim3 = 4.1 * 1e-5 # torr\n",
    "\n",
    "p_lim = p_lim3"
   ]
  },
  {
   "cell_type": "markdown",
   "metadata": {},
   "source": [
    "начинаем искуственную течь"
   ]
  },
  {
   "cell_type": "code",
   "execution_count": null,
   "metadata": {},
   "outputs": [],
   "source": [
    "p_forvacuum_begin_tech = 3.9 * 1e-3 # torr\n"
   ]
  },
  {
   "cell_type": "code",
   "execution_count": null,
   "metadata": {},
   "outputs": [],
   "source": [
    "p_ust_for  = 4.0 * 1e-3 # torr\n",
    "p_ust_high = 9.3 * 1e-5 # torr"
   ]
  }
 ],
 "metadata": {
  "kernelspec": {
   "display_name": "Python 3",
   "language": "python",
   "name": "python3"
  },
  "language_info": {
   "codemirror_mode": {
    "name": "ipython",
    "version": 3
   },
   "file_extension": ".py",
   "mimetype": "text/x-python",
   "name": "python",
   "nbconvert_exporter": "python",
   "pygments_lexer": "ipython3",
   "version": "3.10.12"
  }
 },
 "nbformat": 4,
 "nbformat_minor": 2
}
