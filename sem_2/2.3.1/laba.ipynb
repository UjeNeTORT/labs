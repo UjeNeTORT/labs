{
 "cells": [
  {
   "cell_type": "code",
   "execution_count": 23,
   "metadata": {},
   "outputs": [],
   "source": [
    "T_ROOM = 21.7 + 273.15 # K\n",
    "P_ATM = 99 * 1e3 # Pa\n",
    "V_CAPILLAR = 50 * 1e-6 # m^3\n",
    "R = 8.31\n",
    "g = 9.81\n",
    "RHO_MASLO = 885 # si"
   ]
  },
  {
   "cell_type": "markdown",
   "metadata": {},
   "source": [
    "заполнили установку воздухом, заперли объем газа в части. Откачали воздух"
   ]
  },
  {
   "cell_type": "code",
   "execution_count": 24,
   "metadata": {},
   "outputs": [],
   "source": [
    "delta_h1 = 37.9 - 11.7 # см = h1 - h2\n",
    "delta_h1 *= 0.01\n",
    "\n",
    "delta_h2 = -16.5 + 33.8 # см = h4 - h3\n",
    "delta_h2 *= 0.01\n"
   ]
  },
  {
   "cell_type": "code",
   "execution_count": 25,
   "metadata": {},
   "outputs": [
    {
     "data": {
      "text/plain": [
       "0.0021761640400366697"
      ]
     },
     "execution_count": 25,
     "metadata": {},
     "output_type": "execute_result"
    }
   ],
   "source": [
    "delta_p1 = delta_h1 * g * RHO_MASLO\n",
    "delta_p2 = delta_h2 * g * RHO_MASLO\n",
    "\n",
    "nu_R_T = P_ATM * V_CAPILLAR\n",
    "v_forvacuum = nu_R_T / delta_p1\n",
    "v_forvacuum\n"
   ]
  },
  {
   "cell_type": "code",
   "execution_count": 26,
   "metadata": {},
   "outputs": [
    {
     "data": {
      "text/plain": [
       "0.0011195294772442985"
      ]
     },
     "execution_count": 26,
     "metadata": {},
     "output_type": "execute_result"
    }
   ],
   "source": [
    "v_sum = nu_R_T / delta_p2\n",
    "v_highvacuum = v_sum - v_forvacuum\n",
    "v_highvacuum"
   ]
  }
 ],
 "metadata": {
  "kernelspec": {
   "display_name": "Python 3",
   "language": "python",
   "name": "python3"
  },
  "language_info": {
   "codemirror_mode": {
    "name": "ipython",
    "version": 3
   },
   "file_extension": ".py",
   "mimetype": "text/x-python",
   "name": "python",
   "nbconvert_exporter": "python",
   "pygments_lexer": "ipython3",
   "version": "3.10.12"
  }
 },
 "nbformat": 4,
 "nbformat_minor": 2
}
