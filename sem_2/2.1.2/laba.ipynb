{
 "cells": [
  {
   "cell_type": "markdown",
   "metadata": {},
   "source": [
    "# Лабораторная работа 2.1.3.\n",
    "# Определение $C_p/C_v$ по скорости звука в газе"
   ]
  },
  {
   "cell_type": "markdown",
   "metadata": {},
   "source": [
    "---"
   ]
  },
  {
   "cell_type": "markdown",
   "metadata": {},
   "source": [
    "__Цель работы:__ \n",
    "1) Измерение частоты колебаний и длины волны при резонансе звуковых колебаний в газе, заполняющем трубу\n",
    "2) Определение показателя адиабаты с помощью уравнения состояния идеального газа"
   ]
  },
  {
   "cell_type": "markdown",
   "metadata": {},
   "source": [
    "## Теория\n"
   ]
  },
  {
   "cell_type": "markdown",
   "metadata": {},
   "source": [
    "Воздух можно приближенно считать идеальным газом"
   ]
  },
  {
   "cell_type": "markdown",
   "metadata": {},
   "source": [
    "Скорость звука в газах определяется формулой:\n",
    "$$c = \\sqrt{\\gamma\\frac{RT}{\\mu}}$$"
   ]
  },
  {
   "cell_type": "markdown",
   "metadata": {},
   "source": [
    "$$\\gamma = \\frac{\\mu}{RT}c^2\n",
    "$$"
   ]
  },
  {
   "cell_type": "markdown",
   "metadata": {},
   "source": [
    "$$c = \\lambda \\nu$$"
   ]
  },
  {
   "cell_type": "markdown",
   "metadata": {},
   "source": [
    "Если возбудить звуковые колебания в трубе и добиться возникновения стоячих волн, то можно таким образом измерить скорость звука"
   ]
  },
  {
   "cell_type": "markdown",
   "metadata": {},
   "source": [
    "### Опыт 1 - с неподвижной трубой"
   ]
  },
  {
   "cell_type": "markdown",
   "metadata": {},
   "source": [
    "Запишем длину трубы и будем подбирать частоту генератора так, чтобы в трубе возникали стоячие волны."
   ]
  },
  {
   "cell_type": "markdown",
   "metadata": {},
   "source": [
    "$$L = \\frac{\\lambda_1}{2}n = ... = \\frac{\\lambda_{k+1}}{2}(n+k)$$"
   ]
  },
  {
   "cell_type": "markdown",
   "metadata": {},
   "source": [
    "$$\\nu_{k+1} = \\frac{c}{\\lambda_{k+1}} = \\frac{c}{2L}(n+k) = \\nu_1 + \\frac{c}{2L}k$$"
   ]
  },
  {
   "cell_type": "markdown",
   "metadata": {},
   "source": [
    "Таким образом, на графике $\\nu(k)$ угловой коэффициент $\\alpha = c/2L$, откуда можно получить c"
   ]
  },
  {
   "cell_type": "markdown",
   "metadata": {},
   "source": [
    "Скорость звука будем измерять для разных температур"
   ]
  },
  {
   "cell_type": "markdown",
   "metadata": {},
   "source": [
    "## Ход работы"
   ]
  },
  {
   "cell_type": "markdown",
   "metadata": {},
   "source": [
    "---"
   ]
  },
  {
   "cell_type": "code",
   "execution_count": 148,
   "metadata": {},
   "outputs": [
    {
     "ename": "",
     "evalue": "",
     "output_type": "error",
     "traceback": [
      "\u001b[1;31mRunning cells with 'Python 3.12.6' requires the ipykernel package.\n",
      "\u001b[1;31mRun the following command to install 'ipykernel' into the Python environment. \n",
      "\u001b[1;31mCommand: '/bin/python -m pip install ipykernel -U --user --force-reinstall'"
     ]
    }
   ],
   "source": [
    "import math\n",
    "import matplotlib.pyplot as plt\n",
    "import numpy as np"
   ]
  },
  {
   "cell_type": "code",
   "execution_count": 149,
   "metadata": {},
   "outputs": [],
   "source": [
    "# КОНСТАНТЫ\n",
    "RHO_WATER = 1000 # кг/м^3\n",
    "g         = 9.8  # м/с^2\n",
    "\n",
    "c_sound_0 = 340 # м/с\n",
    "L = 0.7         # м\n",
    "delta_L = 0.001 # м\n",
    "\n",
    "T_0 = 21.6 + 273.15# K\n",
    "delta_nu_measured = 2 # Гц"
   ]
  },
  {
   "cell_type": "code",
   "execution_count": 150,
   "metadata": {},
   "outputs": [],
   "source": [
    "def calc_nu_n (n, c_sound):\n",
    "    return c_sound / 2 / L + (n - 1) * c_sound / 2 / L"
   ]
  },
  {
   "cell_type": "code",
   "execution_count": 151,
   "metadata": {},
   "outputs": [],
   "source": [
    "def calc_c_sound (T):\n",
    "    return c_sound_0 * math.sqrt(T/T_0)"
   ]
  },
  {
   "cell_type": "code",
   "execution_count": 152,
   "metadata": {},
   "outputs": [],
   "source": [
    "def LeastSquares(x_arr, y_arr): # returns [k, b, sigma_k, sigma b]\n",
    "    v = x_arr\n",
    "    u = y_arr\n",
    "\n",
    "    N = len(v)\n",
    "\n",
    "    mu = np.mean(u) # средее\n",
    "    mv = np.mean(v)\n",
    "    mv2 = np.mean([v_i**2 for v_i in v]) # средний квадрат\n",
    "    mu2 = np.mean([u_i**2 for u_i in u])\n",
    "    muv = np.mean ([u[i] * v[i] for i in range(len(u))]) # среднее от произведения\n",
    "    k = (muv - mu * mv) / (mv2 - mv**2)\n",
    "    b = mu - k * mv\n",
    "\n",
    "    sigma_k = np.sqrt(1/(N-2) * ( (mu2 - mu**2)/(mv2 - mv**2) - k**2 ) )\n",
    "    sigma_b = sigma_k * np.sqrt(mv2)\n",
    "\n",
    "    return (k, b, sigma_k, sigma_b)"
   ]
  },
  {
   "cell_type": "code",
   "execution_count": 153,
   "metadata": {},
   "outputs": [],
   "source": [
    "def get_graph_2 (nu_measured, Temperature):\n",
    "    plt.figure()\n",
    "    plt.xlabel(\"$k$ - номер гармоники\")\n",
    "    plt.ylabel(\"$ \\\\nu $ - резонансная частота\")\n",
    "    plt.title('График зависимости $\\\\nu(k), T = ' + str(Temperature) + 'K $')\n",
    "    plt.grid(True, linestyle = '--')\n",
    "    plt.errorbar(range(1, 6), [nu_measured[i] - nu_measured[0] for i in range(0,5)], yerr=[delta_nu_measured]*5, fmt=\".k\", label=\"Экспериментальные точки\")\n",
    "\n",
    "    x = np.array([1, 6])\n",
    "\n",
    "    k, b, kerr, berr = LeastSquares(range(1,6), [nu_measured[i] - nu_measured[0] for i in range(0,5)])\n",
    "    plt.plot(x, k*x + b, \"-r\", linewidth = 1)\n",
    "    return k, kerr, b, berr"
   ]
  },
  {
   "cell_type": "code",
   "execution_count": 154,
   "metadata": {},
   "outputs": [],
   "source": [
    "T_1 = T_0\n",
    "nu_n_1_measured = [263, 497, 740, 988, 1233]\n",
    "\n",
    "T_2 = 30.1 + 273.15 # k\n",
    "nu_n_2_measured = [265, 503, 749, 999, 1249]\n",
    "\n",
    "T_3 = 40.1 + 273.15 # k\n",
    "nu_n_3_measured = [269, 511, 761, 1014, 1268]\n",
    "\n",
    "T_4 = 50.1 + 273.15 # k\n",
    "nu_n_4_measured = [272, 519, 771, 1031, 1287]"
   ]
  },
  {
   "cell_type": "code",
   "execution_count": null,
   "metadata": {},
   "outputs": [],
   "source": [
    "k, kerr, b, berr = get_graph_2 (nu_n_1_measured, T_1)\n",
    "k * 2 * L, np.sqrt((2 * L * kerr)**2 + (2 * k * delta_L)**2), np.sqrt((2 * L * kerr)**2 + (2 * k * delta_L)**2) / (k * 2 * L)"
   ]
  },
  {
   "cell_type": "code",
   "execution_count": null,
   "metadata": {},
   "outputs": [],
   "source": [
    "k, kerr, b, berr = get_graph_2 (nu_n_2_measured, T_2)\n",
    "k * 2 * L, np.sqrt((2 * L * kerr)**2 + (2 * k * delta_L)**2), np.sqrt((2 * L * kerr)**2 + (2 * k * delta_L)**2) / (k * 2 * L)"
   ]
  },
  {
   "cell_type": "code",
   "execution_count": null,
   "metadata": {},
   "outputs": [],
   "source": [
    "k, kerr, b, berr = get_graph_2 (nu_n_3_measured, T_3)\n",
    "k * 2 * L, np.sqrt((2 * L * kerr)**2 + (2 * k * delta_L)**2), np.sqrt((2 * L * kerr)**2 + (2 * k * delta_L)**2) / (k * 2 * L)"
   ]
  },
  {
   "cell_type": "code",
   "execution_count": null,
   "metadata": {},
   "outputs": [],
   "source": [
    "k, kerr, b, berr = get_graph_2 (nu_n_4_measured, T_4)\n",
    "k * 2 * L, np.sqrt((2 * L * kerr)**2 + (2 * k * delta_L)**2), np.sqrt((2 * L * kerr)**2 + (2 * k * delta_L)**2) / (k * 2 * L)"
   ]
  },
  {
   "cell_type": "code",
   "execution_count": null,
   "metadata": {},
   "outputs": [],
   "source": [
    "mu_air = 0.029 # кг/моль\n",
    "Ts = [T_1, T_2, T_3, T_4]\n",
    "cs = [340.34, 344.96, 350.14, 355.88]\n",
    "sigmas_c = [2.574, 2.512, 2.432, 2.482]\n",
    "gammas = [mu_air/8.31/Ts[i]*pow(cs[i], 2) for i in range(4)]\n",
    "sigmas_gamma = [2 * mu_air/8.31/Ts[i] * cs[i] * sigmas_c[i] for i in range(4)]\n",
    "gammas, sigmas_gamma"
   ]
  },
  {
   "cell_type": "markdown",
   "metadata": {},
   "source": [
    "### Часть 2"
   ]
  },
  {
   "cell_type": "code",
   "execution_count": 160,
   "metadata": {},
   "outputs": [],
   "source": [
    "L = 0.57 # м\n",
    "delta_L = 0.005 # м\n",
    "\n",
    "nu_1 = 4110 # гц"
   ]
  },
  {
   "cell_type": "code",
   "execution_count": null,
   "metadata": {},
   "outputs": [],
   "source": [
    "l = [0.185, 0.145, 0.102, 0.06, 0.018]\n",
    "ls = [l[i] + L - l[0] for i in range(len(l))]\n",
    "ls.sort()\n",
    "ls"
   ]
  },
  {
   "cell_type": "code",
   "execution_count": null,
   "metadata": {},
   "outputs": [],
   "source": [
    "plt.figure()\n",
    "plt.xlabel(\"$k$ - порядковый номер гармоники\")\n",
    "plt.ylabel(\"$L_{n+k}-L_n$, м\")\n",
    "plt.title('График зависимости $(L_{n+k}-L_n, k)$, $nu$ = 4110 Гц, среда - воздух')\n",
    "plt.grid(True, linestyle = '--')\n",
    "plt.errorbar(range(len(l)), ls, yerr=[np.sqrt(delta_L**2 + 0.001**2) for i in range(len(ls))], color = 'g', ls = \"None\")\n",
    "k, b, kerr, berr = LeastSquares (range(len(l)), ls)\n",
    "x = np.array ([0, len(l)])\n",
    "plt.plot (x, k*x + b, \"-\", linewidth = 1)\n",
    "plt.show()\n",
    "k*2, 2*kerr, kerr / k\n",
    "c_4110 = k*2 * 4110\n",
    "sigma_c_4110 = kerr*2 * 4110\n",
    "c_4110"
   ]
  },
  {
   "cell_type": "markdown",
   "metadata": {},
   "source": [
    "перешли на CO2"
   ]
  },
  {
   "cell_type": "code",
   "execution_count": null,
   "metadata": {},
   "outputs": [],
   "source": [
    "c_sound_CO2 = c_sound_0 * 29 / 44\n",
    "c_sound_CO2\n"
   ]
  },
  {
   "cell_type": "code",
   "execution_count": 164,
   "metadata": {},
   "outputs": [],
   "source": [
    "nu_2 = 2110 # Гц"
   ]
  },
  {
   "cell_type": "code",
   "execution_count": null,
   "metadata": {},
   "outputs": [],
   "source": [
    "l_CO2_1 = [0.20, 0.144, 0.08, 0.016]\n",
    "l_CO2_1.sort()\n",
    "arrT_cool = [l_CO2_1[i] + L - l_CO2_1[0] for i in range(len(l_CO2_1))]\n",
    "arrT_cool"
   ]
  },
  {
   "cell_type": "code",
   "execution_count": null,
   "metadata": {},
   "outputs": [],
   "source": [
    "plt.figure()\n",
    "plt.xlabel(\"$k$ - порядковый номер гармоники\")\n",
    "plt.ylabel(\"$L_{n+k}-L_n$, м\")\n",
    "plt.title('График зависимости $(L_{n+k}-L_n, k)$, среда - CO2')\n",
    "plt.grid(True, linestyle = '--')\n",
    "\n",
    "l_CO2_1 = [0.20, 0.144, 0.08, 0.016]\n",
    "l_CO2_1.sort()\n",
    "\n",
    "arrT_cool = [l_CO2_1[i] + L - l_CO2_1[0] for i in range(len(l_CO2_1))]\n",
    "\n",
    "plt.errorbar(range(len(arrT_cool)), arrT_cool, yerr=[np.sqrt(delta_L**2 + 0.001**2) for i in range(len(arrT_cool))], color = 'g', ls = \"None\")\n",
    "k, b, kerr, berr = LeastSquares (range(len(arrT_cool)), arrT_cool)\n",
    "x = np.array ([0, len(arrT_cool)])\n",
    "plt.plot (x, k*x + b, \"-\", linewidth = 1, color='g', label='nu = 2110 Гц')\n",
    "print(\"1: \", k*2, kerr*2, k*2*2110, kerr*2*2110, kerr/k)\n",
    "c_2110 = k*2*2110\n",
    "sigma_c_2110 = kerr*2*2110\n",
    "\n",
    "l_CO2_4 = [0.177, 0.137, 0.087, 0.029]\n",
    "l_CO2_4.sort()\n",
    "\n",
    "arrT_cool = [l_CO2_4[i] + L - l_CO2_4[0] for i in range(len(l_CO2_4))]\n",
    "print(l_CO2_4)\n",
    "plt.errorbar(range(len(arrT_cool)), arrT_cool, yerr=[np.sqrt(delta_L**2 + 0.001**2) for i in range(len(arrT_cool))], color = 'g', ls = \"None\")\n",
    "k, b, kerr, berr = LeastSquares (range(len(arrT_cool)), arrT_cool)\n",
    "x = np.array ([0, len(arrT_cool)])\n",
    "plt.plot (x, k*x + b, \"-\", linewidth = 1, color='r', label='nu = 2500 Гц')\n",
    "print(\"2: \", k*2, kerr*2, k*2*2500, kerr*2*2500, kerr/k)\n",
    "c_2500 = k*2*2500\n",
    "sigma_c_2500 = kerr*2*2500\n",
    "\n",
    "plt.legend()\n",
    "plt.show()\n"
   ]
  },
  {
   "cell_type": "code",
   "execution_count": null,
   "metadata": {},
   "outputs": [],
   "source": [
    "gamma_4110 = 0.029/8.31/294.75 * c_4110**2\n",
    "sigma_gamma_4110 = 2 * 0.029/8.31/294.75 * c_4110 * sigma_c_4110\n",
    "gamma_4110, sigma_gamma_4110, sigma_gamma_4110 / gamma_4110"
   ]
  },
  {
   "cell_type": "code",
   "execution_count": null,
   "metadata": {},
   "outputs": [],
   "source": [
    "gamma_2110 = 0.044/8.31/294.75 * c_2110**2\n",
    "sigma_gamma_2110 = 2 * 0.029/8.31/294.75 * c_2110 * sigma_c_2110\n",
    "gamma_2110, sigma_gamma_2110, sigma_gamma_2110 / gamma_2110"
   ]
  },
  {
   "cell_type": "code",
   "execution_count": null,
   "metadata": {},
   "outputs": [],
   "source": [
    "gamma_2500 = 0.044/8.31/294.75 * c_2500**2\n",
    "sigma_gamma_2500 = 2 * 0.029/8.31/294.75 * c_2500 * sigma_c_2500\n",
    "gamma_2500, sigma_gamma_2500, sigma_gamma_2500 / gamma_2500"
   ]
  },
  {
   "cell_type": "code",
   "execution_count": 170,
   "metadata": {},
   "outputs": [],
   "source": [
    "nu_3 = 3110 # Гц"
   ]
  },
  {
   "cell_type": "code",
   "execution_count": 171,
   "metadata": {},
   "outputs": [],
   "source": [
    "l_CO2_2 = [0.15, 0.08]"
   ]
  },
  {
   "cell_type": "code",
   "execution_count": 172,
   "metadata": {},
   "outputs": [],
   "source": [
    "nu_4 = 1110 # Гц"
   ]
  },
  {
   "cell_type": "code",
   "execution_count": 173,
   "metadata": {},
   "outputs": [],
   "source": [
    "l_CO2_3 = [0.144, 0.035]"
   ]
  },
  {
   "cell_type": "code",
   "execution_count": 174,
   "metadata": {},
   "outputs": [],
   "source": [
    "nu_5 = 2500 # Гц"
   ]
  },
  {
   "cell_type": "code",
   "execution_count": 175,
   "metadata": {},
   "outputs": [],
   "source": [
    "l_CO2_4 = [0.177, 0.137, 0.087, 0.029]"
   ]
  }
 ],
 "metadata": {
  "kernelspec": {
   "display_name": "Python 3",
   "language": "python",
   "name": "python3"
  },
  "language_info": {
   "codemirror_mode": {
    "name": "ipython",
    "version": 3
   },
   "file_extension": ".py",
   "mimetype": "text/x-python",
   "name": "python",
   "nbconvert_exporter": "python",
   "pygments_lexer": "ipython3",
   "version": "3.12.6"
  }
 },
 "nbformat": 4,
 "nbformat_minor": 2
}
