{
 "cells": [
  {
   "cell_type": "markdown",
   "metadata": {},
   "source": [
    "# Лабораторная работа 2.1.2.\n",
    "# Определение $C_p/C_v$ методом адиабатического расширения"
   ]
  },
  {
   "cell_type": "markdown",
   "metadata": {},
   "source": [
    "---"
   ]
  },
  {
   "cell_type": "markdown",
   "metadata": {},
   "source": [
    "## Теория\n"
   ]
  },
  {
   "cell_type": "markdown",
   "metadata": {},
   "source": [
    "Начальные условия:   \n",
    "в сосуде находится некий газ при температуре $T_1$, давлении $P_1 > P_0$.\n"
   ]
  },
  {
   "cell_type": "markdown",
   "metadata": {},
   "source": [
    "После открытия крана температура и давление будут понижаться "
   ]
  },
  {
   "cell_type": "markdown",
   "metadata": {},
   "source": [
    "Считаем что времена выравнивания давления и температуры \n",
    "$$\\Delta{t_P} << \\Delta{t_T}$$ \n"
   ]
  },
  {
   "cell_type": "markdown",
   "metadata": {},
   "source": [
    "Процесс можем считать адиабатическим, если время открытия крана $\\Delta t$ $$\\Delta{t_P} << \\Delta t << \\Delta{t_T}$$ "
   ]
  },
  {
   "cell_type": "markdown",
   "metadata": {},
   "source": [
    "Уравнение адиабаты\n",
    "$$ (\\frac{p_1}{p_2})^{\\gamma - 1} = (\\frac{T_1}{T_2})^{\\gamma}$$"
   ]
  },
  {
   "cell_type": "markdown",
   "metadata": {},
   "source": [
    "\"1\" - кран закрыт, давление вручную повышено до $p_1 > p_0$, температура $T_1 = T_0$   \n",
    "\"2\" - кран открывается на короткое время, давление $p_2 = p_0$, температура $T_2 < T_0$ (т к за счет работы расширения газа уменьшается внутренняя энергия)   \n",
    "\"3\" - кран снова закрывается, температура медленно повышается через стенки до уровня $T_0$, вместе с тем растет и давление "
   ]
  },
  {
   "cell_type": "markdown",
   "metadata": {},
   "source": [
    "$$ \\frac{p_2}{T_2} = \\frac{p_3}{T_3 = T_0} $$"
   ]
  },
  {
   "cell_type": "markdown",
   "metadata": {},
   "source": [
    "$$T_1/T_2 = p_3/p_2$$"
   ]
  },
  {
   "cell_type": "markdown",
   "metadata": {},
   "source": [
    "$$(\\frac{p_3}{p_2})^{\\gamma} = (\\frac{p_1}{p_2})^{\\gamma-1}$$\n",
    "$$p_2 = p_0$$"
   ]
  },
  {
   "cell_type": "markdown",
   "metadata": {},
   "source": [
    "$$\\gamma = \\frac{ln(p_1/p_0)}{ln(p_1/p_3)}$$"
   ]
  },
  {
   "cell_type": "markdown",
   "metadata": {},
   "source": [
    "Давления $p_1, p_3$ измеряются жидкостным U-образным манометром\n",
    "$$p_i = p_0 + \\rho g h_i$$ "
   ]
  },
  {
   "cell_type": "markdown",
   "metadata": {},
   "source": [
    "Разлагая логарифмы в ряд...\n",
    "$$\\gamma ~\\approx \\frac{h_1}{h_1-h_2}$$"
   ]
  },
  {
   "attachments": {
    "image.png": {
     "image/png": "[encoded data removed]"
    }
   },
   "cell_type": "markdown",
   "metadata": {},
   "source": [
    "![image.png](attachment:image.png)"
   ]
  },
  {
   "cell_type": "markdown",
   "metadata": {},
   "source": [
    "### Оценка $\\Delta t_p$"
   ]
  },
  {
   "cell_type": "markdown",
   "metadata": {},
   "source": [
    "Скорость истечения газа по уравнению Бернулли\n",
    "$$v = \\sqrt{\\frac{2(p-p_0)}{\\rho_0}}$$"
   ]
  },
  {
   "cell_type": "markdown",
   "metadata": {},
   "source": [
    "..."
   ]
  },
  {
   "cell_type": "markdown",
   "metadata": {},
   "source": [
    "$$t_p = \\frac{V_0}{S_r c}\\sqrt{\\frac{2(p-p_0)}{\\gamma p_0}}$$"
   ]
  },
  {
   "cell_type": "markdown",
   "metadata": {},
   "source": [
    "### Оценка теплообмена между газом и стенками"
   ]
  },
  {
   "cell_type": "markdown",
   "metadata": {},
   "source": [
    "..."
   ]
  },
  {
   "cell_type": "markdown",
   "metadata": {},
   "source": []
  },
  {
   "cell_type": "markdown",
   "metadata": {},
   "source": [
    "## Ход работы"
   ]
  },
  {
   "cell_type": "markdown",
   "metadata": {},
   "source": [
    "---"
   ]
  },
  {
   "cell_type": "code",
   "execution_count": 68,
   "metadata": {},
   "outputs": [],
   "source": [
    "import math"
   ]
  },
  {
   "cell_type": "code",
   "execution_count": 69,
   "metadata": {},
   "outputs": [],
   "source": [
    "# КОНСТАНТЫ\n",
    "RHO_WATER = 1000 # кг/м^3\n",
    "g         = 9.8  # м/с^2\n",
    "\n",
    "c_sound_0 = 340 # м/с\n",
    "L = 0.7       # м\n",
    "delta_L = 0.001\n",
    "\n",
    "T_0 = 21.6 + 273.15# K"
   ]
  },
  {
   "cell_type": "code",
   "execution_count": 70,
   "metadata": {},
   "outputs": [],
   "source": [
    "# мм вод ст в Па\n",
    "def convert_mH20_to_Pa (mH20):\n",
    "    return RHO_WATER * g * mH20"
   ]
  },
  {
   "cell_type": "code",
   "execution_count": 71,
   "metadata": {},
   "outputs": [],
   "source": [
    "def calc_nu_n (n, c_sound):\n",
    "    return c_sound / 2 / L + (n - 1) * c_sound / 2 / L"
   ]
  },
  {
   "cell_type": "code",
   "execution_count": 72,
   "metadata": {},
   "outputs": [],
   "source": [
    "def calc_c_sound (T):\n",
    "    return c_sound_0 * math.sqrt(T/T_0)"
   ]
  },
  {
   "cell_type": "code",
   "execution_count": 73,
   "metadata": {},
   "outputs": [
    {
     "data": {
      "text/plain": [
       "1214.2857142857142"
      ]
     },
     "execution_count": 73,
     "metadata": {},
     "output_type": "execute_result"
    }
   ],
   "source": [
    "calc_nu_n (5, c_sound_0)\n"
   ]
  },
  {
   "cell_type": "code",
   "execution_count": 74,
   "metadata": {},
   "outputs": [],
   "source": [
    "T_1 = T_0\n",
    "nu_n_1 = [calc_nu_n (1, c_sound_0),\n",
    "          calc_nu_n (2, c_sound_0),\n",
    "          calc_nu_n (3, c_sound_0),\n",
    "          calc_nu_n (4, c_sound_0),\n",
    "          calc_nu_n (5, c_sound_0)]\n",
    "\n",
    "nu_n_1_measured = [263,\n",
    "                   497,\n",
    "                   740,\n",
    "                   988,\n",
    "                   1233]\n",
    "\n",
    "delta_nu_measured = 2 # Гц"
   ]
  },
  {
   "cell_type": "code",
   "execution_count": 75,
   "metadata": {},
   "outputs": [],
   "source": [
    "T_2 = 30.1 + 273.15 # k\n",
    "c_sound_1 = calc_c_sound (T_2)\n",
    "\n",
    "nu_n_2 = [calc_nu_n (1, c_sound_1),\n",
    "          calc_nu_n (2, c_sound_1),\n",
    "          calc_nu_n (3, c_sound_1),\n",
    "          calc_nu_n (4, c_sound_1),\n",
    "          calc_nu_n (5, c_sound_1)]\n",
    "\n",
    "nu_n_2_measured = [265,\n",
    "                   503,\n",
    "                   749,\n",
    "                   999,\n",
    "                   1249]"
   ]
  },
  {
   "cell_type": "code",
   "execution_count": 76,
   "metadata": {},
   "outputs": [],
   "source": [
    "T_3 = 40.1 + 273.15 # k\n",
    "c_sound_2 = calc_c_sound (T_3)\n",
    "\n",
    "nu_n_3 = [calc_nu_n (1, c_sound_2),\n",
    "          calc_nu_n (2, c_sound_2),\n",
    "          calc_nu_n (3, c_sound_2),\n",
    "          calc_nu_n (4, c_sound_2),\n",
    "          calc_nu_n (5, c_sound_2)]\n",
    "\n",
    "nu_n_3_measured = [269,\n",
    "                   511,\n",
    "                   761,\n",
    "                   1014,\n",
    "                   1268]"
   ]
  },
  {
   "cell_type": "code",
   "execution_count": 77,
   "metadata": {},
   "outputs": [],
   "source": [
    "T_4 = 50.1 + 273.15 # k\n",
    "c_sound_3 = calc_c_sound (T_4)\n",
    "\n",
    "nu_n_4 = [calc_nu_n (1, c_sound_3),\n",
    "          calc_nu_n (2, c_sound_3),\n",
    "          calc_nu_n (3, c_sound_3),\n",
    "          calc_nu_n (4, c_sound_3),\n",
    "          calc_nu_n (5, c_sound_3)]\n",
    "\n",
    "nu_n_4_measured = [272,\n",
    "                   519,\n",
    "                   771,\n",
    "                   1031,\n",
    "                   1287]"
   ]
  },
  {
   "cell_type": "code",
   "execution_count": 78,
   "metadata": {},
   "outputs": [
    {
     "data": {
      "text/plain": [
       "[254.32745257625126,\n",
       " 508.6549051525025,\n",
       " 762.9823577287538,\n",
       " 1017.309810305005,\n",
       " 1271.6372628812562]"
      ]
     },
     "execution_count": 78,
     "metadata": {},
     "output_type": "execute_result"
    }
   ],
   "source": [
    "nu_n_4"
   ]
  }
 ],
 "metadata": {
  "kernelspec": {
   "display_name": "Python 3",
   "language": "python",
   "name": "python3"
  },
  "language_info": {
   "codemirror_mode": {
    "name": "ipython",
    "version": 3
   },
   "file_extension": ".py",
   "mimetype": "text/x-python",
   "name": "python",
   "nbconvert_exporter": "python",
   "pygments_lexer": "ipython3",
   "version": "3.10.12"
  }
 },
 "nbformat": 4,
 "nbformat_minor": 2
}
