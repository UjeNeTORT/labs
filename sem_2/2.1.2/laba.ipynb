{
 "cells": [
  {
   "cell_type": "markdown",
   "metadata": {},
   "source": [
    "# Лабораторная работа 2.1.3.\n",
    "# Определение $C_p/C_v$ по скорости звука в газе"
   ]
  },
  {
   "cell_type": "markdown",
   "metadata": {},
   "source": [
    "---"
   ]
  },
  {
   "cell_type": "markdown",
   "metadata": {},
   "source": [
    "__Цель работы:__ \n",
    "1) Измерение частоты колебаний и длины волны при резонансе звуковых колебаний в газе, заполняющем трубу\n",
    "2) Определение показателя адиабаты с помощью уравнения состояния идеального газа"
   ]
  },
  {
   "cell_type": "markdown",
   "metadata": {},
   "source": [
    "## Теория\n"
   ]
  },
  {
   "cell_type": "markdown",
   "metadata": {},
   "source": [
    "Воздух можно приближенно считать идеальным газом"
   ]
  },
  {
   "cell_type": "markdown",
   "metadata": {},
   "source": [
    "Скорость звука в газах определяется формулой:\n",
    "$$c = \\sqrt{\\gamma\\frac{RT}{\\mu}}$$"
   ]
  },
  {
   "cell_type": "markdown",
   "metadata": {},
   "source": [
    "$$\\gamma = \\frac{\\mu}{RT}c^2\n",
    "$$"
   ]
  },
  {
   "cell_type": "markdown",
   "metadata": {},
   "source": [
    "$$c = \\lambda \\nu$$"
   ]
  },
  {
   "cell_type": "markdown",
   "metadata": {},
   "source": [
    "Если возбудить звуковые колебания в трубе и добиться возникновения стоячих волн, то можно таким образом измерить скорость звука"
   ]
  },
  {
   "cell_type": "markdown",
   "metadata": {},
   "source": [
    "### Опыт 1 - с неподвижной трубой"
   ]
  },
  {
   "cell_type": "markdown",
   "metadata": {},
   "source": [
    "Запишем длину трубы и будем подбирать частоту генератора так, чтобы в трубе возникали стоячие волны."
   ]
  },
  {
   "cell_type": "markdown",
   "metadata": {},
   "source": [
    "$$L = \\frac{\\lambda_1}{2}n = ... = \\frac{\\lambda_{k+1}}{2}(n+k)$$"
   ]
  },
  {
   "cell_type": "markdown",
   "metadata": {},
   "source": [
    "$$\\nu_{k+1} = \\frac{c}{\\lambda_{k+1}} = \\frac{c}{2L}(n+k) = \\nu_1 + \\frac{c}{2L}k$$"
   ]
  },
  {
   "cell_type": "markdown",
   "metadata": {},
   "source": [
    "Таким образом, на графике $\\nu(k)$ угловой коэффициент $\\alpha = c/2L$, откуда можно получить c"
   ]
  },
  {
   "cell_type": "markdown",
   "metadata": {},
   "source": [
    "## Ход работы"
   ]
  },
  {
   "cell_type": "markdown",
   "metadata": {},
   "source": [
    "---"
   ]
  },
  {
   "cell_type": "code",
   "execution_count": 101,
   "metadata": {},
   "outputs": [],
   "source": [
    "import math"
   ]
  },
  {
   "cell_type": "code",
   "execution_count": 102,
   "metadata": {},
   "outputs": [],
   "source": [
    "# КОНСТАНТЫ\n",
    "RHO_WATER = 1000 # кг/м^3\n",
    "g         = 9.8  # м/с^2\n",
    "\n",
    "c_sound_0 = 340 # м/с\n",
    "L = 0.7       # м\n",
    "delta_L = 0.001\n",
    "\n",
    "T_0 = 21.6 + 273.15# K"
   ]
  },
  {
   "cell_type": "code",
   "execution_count": 104,
   "metadata": {},
   "outputs": [],
   "source": [
    "def calc_nu_n (n, c_sound):\n",
    "    return c_sound / 2 / L + (n - 1) * c_sound / 2 / L"
   ]
  },
  {
   "cell_type": "code",
   "execution_count": 105,
   "metadata": {},
   "outputs": [],
   "source": [
    "def calc_c_sound (T):\n",
    "    return c_sound_0 * math.sqrt(T/T_0)"
   ]
  },
  {
   "cell_type": "code",
   "execution_count": 107,
   "metadata": {},
   "outputs": [],
   "source": [
    "T_1 = T_0\n",
    "nu_n_1 = [calc_nu_n (1, c_sound_0),\n",
    "          calc_nu_n (2, c_sound_0),\n",
    "          calc_nu_n (3, c_sound_0),\n",
    "          calc_nu_n (4, c_sound_0),\n",
    "          calc_nu_n (5, c_sound_0)]\n",
    "\n",
    "nu_n_1_measured = [263,\n",
    "                   497,\n",
    "                   740,\n",
    "                   988,\n",
    "                   1233]\n",
    "\n",
    "delta_nu_measured = 2 # Гц"
   ]
  },
  {
   "cell_type": "code",
   "execution_count": 108,
   "metadata": {},
   "outputs": [],
   "source": [
    "T_2 = 30.1 + 273.15 # k\n",
    "c_sound_1 = calc_c_sound (T_2)\n",
    "\n",
    "nu_n_2 = [calc_nu_n (1, c_sound_1),\n",
    "          calc_nu_n (2, c_sound_1),\n",
    "          calc_nu_n (3, c_sound_1),\n",
    "          calc_nu_n (4, c_sound_1),\n",
    "          calc_nu_n (5, c_sound_1)]\n",
    "\n",
    "nu_n_2_measured = [265,\n",
    "                   503,\n",
    "                   749,\n",
    "                   999,\n",
    "                   1249]"
   ]
  },
  {
   "cell_type": "code",
   "execution_count": 109,
   "metadata": {},
   "outputs": [],
   "source": [
    "T_3 = 40.1 + 273.15 # k\n",
    "c_sound_2 = calc_c_sound (T_3)\n",
    "\n",
    "nu_n_3 = [calc_nu_n (1, c_sound_2),\n",
    "          calc_nu_n (2, c_sound_2),\n",
    "          calc_nu_n (3, c_sound_2),\n",
    "          calc_nu_n (4, c_sound_2),\n",
    "          calc_nu_n (5, c_sound_2)]\n",
    "\n",
    "nu_n_3_measured = [269,\n",
    "                   511,\n",
    "                   761,\n",
    "                   1014,\n",
    "                   1268]"
   ]
  },
  {
   "cell_type": "code",
   "execution_count": 110,
   "metadata": {},
   "outputs": [],
   "source": [
    "T_4 = 50.1 + 273.15 # k\n",
    "c_sound_3 = calc_c_sound (T_4)\n",
    "\n",
    "nu_n_4 = [calc_nu_n (1, c_sound_3),\n",
    "          calc_nu_n (2, c_sound_3),\n",
    "          calc_nu_n (3, c_sound_3),\n",
    "          calc_nu_n (4, c_sound_3),\n",
    "          calc_nu_n (5, c_sound_3)]\n",
    "\n",
    "nu_n_4_measured = [272,\n",
    "                   519,\n",
    "                   771,\n",
    "                   1031,\n",
    "                   1287]"
   ]
  },
  {
   "cell_type": "code",
   "execution_count": 111,
   "metadata": {},
   "outputs": [
    {
     "data": {
      "text/plain": [
       "[254.32745257625126,\n",
       " 508.6549051525025,\n",
       " 762.9823577287538,\n",
       " 1017.309810305005,\n",
       " 1271.6372628812562]"
      ]
     },
     "execution_count": 111,
     "metadata": {},
     "output_type": "execute_result"
    }
   ],
   "source": [
    "nu_n_4"
   ]
  },
  {
   "cell_type": "markdown",
   "metadata": {},
   "source": [
    "### Часть 2"
   ]
  },
  {
   "cell_type": "code",
   "execution_count": 112,
   "metadata": {},
   "outputs": [],
   "source": [
    "L = 0.57 # м\n",
    "delta_L = 0.005 # м\n",
    "\n",
    "nu_1 = 4110 # гц"
   ]
  },
  {
   "cell_type": "code",
   "execution_count": 113,
   "metadata": {},
   "outputs": [],
   "source": [
    "l = [0.185, 0.145, 0.102, 0.06, 0.018]"
   ]
  },
  {
   "cell_type": "markdown",
   "metadata": {},
   "source": [
    "перешли на CO2"
   ]
  },
  {
   "cell_type": "code",
   "execution_count": 114,
   "metadata": {},
   "outputs": [
    {
     "data": {
      "text/plain": [
       "224.0909090909091"
      ]
     },
     "execution_count": 114,
     "metadata": {},
     "output_type": "execute_result"
    }
   ],
   "source": [
    "c_sound_CO2 = c_sound_0 * 29 / 44\n",
    "c_sound_CO2\n"
   ]
  },
  {
   "cell_type": "code",
   "execution_count": 115,
   "metadata": {},
   "outputs": [],
   "source": [
    "nu_2 = 2110 # Гц"
   ]
  },
  {
   "cell_type": "code",
   "execution_count": 116,
   "metadata": {},
   "outputs": [],
   "source": [
    "l_CO2_1 = [0.20, 0.144, 0.08, 0.016]"
   ]
  },
  {
   "cell_type": "code",
   "execution_count": 117,
   "metadata": {},
   "outputs": [],
   "source": [
    "nu_3 = 3110 # Гц"
   ]
  },
  {
   "cell_type": "code",
   "execution_count": 118,
   "metadata": {},
   "outputs": [],
   "source": [
    "l_CO2_2 = [0.15, 0.08]"
   ]
  },
  {
   "cell_type": "code",
   "execution_count": null,
   "metadata": {},
   "outputs": [],
   "source": [
    "nu_4 = 1110 # Гц"
   ]
  },
  {
   "cell_type": "code",
   "execution_count": null,
   "metadata": {},
   "outputs": [],
   "source": [
    "l_CO2_3 = [0.144, 0.035]"
   ]
  },
  {
   "cell_type": "code",
   "execution_count": null,
   "metadata": {},
   "outputs": [],
   "source": [
    "nu_5 = 2500 # Гц"
   ]
  },
  {
   "cell_type": "code",
   "execution_count": null,
   "metadata": {},
   "outputs": [],
   "source": [
    "l_CO2_4 = [0.177, 0.137, 0.087, 0.029]"
   ]
  }
 ],
 "metadata": {
  "kernelspec": {
   "display_name": "Python 3",
   "language": "python",
   "name": "python3"
  },
  "language_info": {
   "codemirror_mode": {
    "name": "ipython",
    "version": 3
   },
   "file_extension": ".py",
   "mimetype": "text/x-python",
   "name": "python",
   "nbconvert_exporter": "python",
   "pygments_lexer": "ipython3",
   "version": "3.10.12"
  }
 },
 "nbformat": 4,
 "nbformat_minor": 2
}
