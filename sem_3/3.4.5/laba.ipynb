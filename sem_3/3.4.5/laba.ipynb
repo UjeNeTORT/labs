{
 "cells": [
  {
   "cell_type": "markdown",
   "metadata": {},
   "source": [
    "# 3.4.5 Гистерезис  \n",
    "---"
   ]
  },
  {
   "cell_type": "code",
   "execution_count": 190,
   "metadata": {},
   "outputs": [],
   "source": [
    "import matplotlib.pyplot as plt\n",
    "import numpy as np\n",
    "import math as m\n",
    "from sys import *\n"
   ]
  },
  {
   "cell_type": "code",
   "execution_count": 191,
   "metadata": {},
   "outputs": [],
   "source": [
    "r_0 = 0.22     # om\n",
    "r_i = 20 * 1e3 # om\n",
    "tau = 0.4\n",
    "mu_0 = 4 * 3.142 * 10**-7"
   ]
  },
  {
   "cell_type": "markdown",
   "metadata": {},
   "source": [
    "Kx and Ky\n"
   ]
  },
  {
   "cell_type": "code",
   "execution_count": 192,
   "metadata": {},
   "outputs": [
    {
     "data": {
      "text/plain": [
       "0.01926024184946215"
      ]
     },
     "execution_count": 192,
     "metadata": {},
     "output_type": "execute_result"
    }
   ],
   "source": [
    "k_x = 2 * 0.22 * m.sqrt(2) * 1.3 / 42\n",
    "k_x"
   ]
  },
  {
   "cell_type": "code",
   "execution_count": 193,
   "metadata": {},
   "outputs": [
    {
     "data": {
      "text/plain": [
       "0.018323288764660103"
      ]
     },
     "execution_count": 193,
     "metadata": {},
     "output_type": "execute_result"
    }
   ],
   "source": [
    "k_y = 2 * m.sqrt(2) * 149 * 1e-3 / 23\n",
    "k_y"
   ]
  },
  {
   "cell_type": "code",
   "execution_count": 194,
   "metadata": {},
   "outputs": [],
   "source": [
    "def get_maxxxxxxx(N_0, l, S, N_i, n1, n2):\n",
    "  print(n1 * 0.02 / r_0 * N_0 / l, n2 * 0.4 * 0.02 / (S * 10**-4) / N_i)"
   ]
  },
  {
   "cell_type": "markdown",
   "metadata": {},
   "source": [
    "феррит"
   ]
  },
  {
   "cell_type": "code",
   "execution_count": 195,
   "metadata": {},
   "outputs": [
    {
     "data": {
      "text/plain": [
       "(84.0, 0.8333333333333334)"
      ]
     },
     "execution_count": 195,
     "metadata": {},
     "output_type": "execute_result"
    }
   ],
   "source": [
    "H_max = 0.020 * 42 / 0.25 * 25\n",
    "B_max = 0.4 / (3 * 0.0001 * 400) * 0.020 * 12.5\n",
    "H_max, B_max"
   ]
  },
  {
   "cell_type": "code",
   "execution_count": 196,
   "metadata": {},
   "outputs": [
    {
     "name": "stdout",
     "output_type": "stream",
     "text": [
      "381.81818181818187 0.8333333333333333\n"
     ]
    }
   ],
   "source": [
    "get_maxxxxxxx(42, 0.25, 3, 400, 25, 12.5)"
   ]
  },
  {
   "cell_type": "code",
   "execution_count": 197,
   "metadata": {},
   "outputs": [
    {
     "data": {
      "text/plain": [
       "362.5"
      ]
     },
     "execution_count": 197,
     "metadata": {},
     "output_type": "execute_result"
    }
   ],
   "source": [
    "14.5 * 25"
   ]
  },
  {
   "cell_type": "code",
   "execution_count": 198,
   "metadata": {},
   "outputs": [],
   "source": [
    "def get_point(X_d, Y_d, k, material):\n",
    "  if material == \"ferrit\":\n",
    "    N_0 = 42\n",
    "    N_i = 400\n",
    "    S = 3 * 1e-4\n",
    "    l = 0.25\n",
    "  elif material == \"feni\":\n",
    "    N_0 = 200\n",
    "    N_i = 300\n",
    "    S = 0.76 * 1e-4\n",
    "    l = 0.133\n",
    "  elif material == \"fesi\":\n",
    "    N_0 = 20\n",
    "    N_i = 200\n",
    "    S = 2 * 1e-4\n",
    "    l = 0.11\n",
    "\n",
    "  k_h = k * N_0 / r_0 / l\n",
    "  k_b = k * tau / S / N_i\n",
    "\n",
    "  return (k_h * X_d / 2, k_b * Y_d / 2)\n"
   ]
  },
  {
   "cell_type": "code",
   "execution_count": 199,
   "metadata": {},
   "outputs": [],
   "source": [
    "def LeastSquares(x_arr, y_arr): # returns [k, b, sigma_k, sigma b]\n",
    "    v = x_arr\n",
    "    u = y_arr\n",
    "\n",
    "    N = len(v)\n",
    "\n",
    "    mu = np.mean(u) # средее\n",
    "    mv = np.mean(v)\n",
    "    mv2 = np.mean([v_i**2 for v_i in v]) # средний квадрат\n",
    "    mu2 = np.mean([u_i**2 for u_i in u])\n",
    "    muv = np.mean ([u[i] * v[i] for i in range(len(u))]) # среднее от произведения\n",
    "    k = (muv - mu * mv) / (mv2 - mv**2)\n",
    "    b = mu - k * mv\n",
    "\n",
    "    sigma_k = np.sqrt(1/(N-2) * ( (mu2 - mu**2)/(mv2 - mv**2) - k**2 ) )\n",
    "    sigma_b = sigma_k * np.sqrt(mv2)\n",
    "\n",
    "    return (k, b, sigma_k, sigma_b)"
   ]
  },
  {
   "cell_type": "markdown",
   "metadata": {},
   "source": [
    "Амплитуда насыщения"
   ]
  },
  {
   "cell_type": "code",
   "execution_count": 200,
   "metadata": {},
   "outputs": [
    {
     "data": {
      "text/plain": [
       "(381.8181818181818, 0.8333333333333334)"
      ]
     },
     "execution_count": 200,
     "metadata": {},
     "output_type": "execute_result"
    }
   ],
   "source": [
    "get_point(50, 25, 0.02, \"ferrit\")"
   ]
  },
  {
   "cell_type": "code",
   "execution_count": 201,
   "metadata": {},
   "outputs": [
    {
     "data": {
      "text/plain": [
       "(1469.583048530417, 1.0526315789473684)"
      ]
     },
     "execution_count": 201,
     "metadata": {},
     "output_type": "execute_result"
    }
   ],
   "source": [
    "get_point(43, 12, .01, \"feni\")"
   ]
  },
  {
   "cell_type": "code",
   "execution_count": 202,
   "metadata": {},
   "outputs": [
    {
     "data": {
      "text/plain": [
       "(991.7355371900827, 3.500000000000001)"
      ]
     },
     "execution_count": 202,
     "metadata": {},
     "output_type": "execute_result"
    }
   ],
   "source": [
    "get_point(48, 14, .05, \"fesi\")"
   ]
  },
  {
   "cell_type": "markdown",
   "metadata": {},
   "source": [
    "Коэрцитивные "
   ]
  },
  {
   "cell_type": "code",
   "execution_count": 203,
   "metadata": {},
   "outputs": [
    {
     "data": {
      "text/plain": [
       "(84.0, 0.3333333333333333)"
      ]
     },
     "execution_count": 203,
     "metadata": {},
     "output_type": "execute_result"
    }
   ],
   "source": [
    "get_point(11, 10, 0.02, \"ferrit\")"
   ]
  },
  {
   "cell_type": "code",
   "execution_count": 204,
   "metadata": {},
   "outputs": [
    {
     "data": {
      "text/plain": [
       "(205.05809979494194, 0.7894736842105263)"
      ]
     },
     "execution_count": 204,
     "metadata": {},
     "output_type": "execute_result"
    }
   ],
   "source": [
    "get_point(6, 9, 0.01, \"feni\")"
   ]
  },
  {
   "cell_type": "code",
   "execution_count": 205,
   "metadata": {},
   "outputs": [
    {
     "data": {
      "text/plain": [
       "(289.25619834710744, 1.7500000000000004)"
      ]
     },
     "execution_count": 205,
     "metadata": {},
     "output_type": "execute_result"
    }
   ],
   "source": [
    "get_point(14, 7, 0.05, \"fesi\")"
   ]
  },
  {
   "cell_type": "code",
   "execution_count": 206,
   "metadata": {},
   "outputs": [],
   "source": [
    "ferrit_raw_1 = [(50, 25), (46, 24), (42, 22), (34, 20), (23,18), (19, 12)]\n",
    "ferrit_raw_2 = [(46, 30), (42, 20)]\n",
    "\n",
    "ferrit_ = [get_point(i[0], i[1], 0.02, \"ferrit\") for i in ferrit_raw_1]\n",
    "for i in ferrit_raw_2:\n",
    "  ferrit_.append(get_point(i[0], i[1], 0.005, \"ferrit\"))\n",
    "\n",
    "ferrit = []\n",
    "for i in ferrit_:\n",
    "  ferrit.append((-i[0], -i[1]))\n",
    "  ferrit.append(i)"
   ]
  },
  {
   "cell_type": "code",
   "execution_count": 207,
   "metadata": {},
   "outputs": [
    {
     "name": "stderr",
     "output_type": "stream",
     "text": [
      "/tmp/ipykernel_1471/979469106.py:10: UserWarning: No artists with labels found to put in legend.  Note that artists whose label start with an underscore are ignored when legend() is called with no argument.\n",
      "  plt.legend()\n"
     ]
    },
    {
     "data": {
      "image/png": "[encoded data removed]",
      "text/plain": [
       "<Figure size 640x480 with 1 Axes>"
      ]
     },
     "metadata": {},
     "output_type": "display_data"
    }
   ],
   "source": [
    "# plt.style.use('ggplot')\n",
    "plt.figure()\n",
    "plt.title(\"Феррит\")\n",
    "plt.xlabel(\"H, А/м\")\n",
    "plt.ylabel(\"B, Тл\")\n",
    "\n",
    "plt.grid(True, linestyle=\"--\")\n",
    "plt.errorbar([i[0] for i in ferrit], [i[1] for i in ferrit], fmt=\".k\")\n",
    "\n",
    "plt.legend()\n",
    "plt.show()"
   ]
  },
  {
   "cell_type": "code",
   "execution_count": 208,
   "metadata": {},
   "outputs": [
    {
     "name": "stdout",
     "output_type": "stream",
     "text": [
      "конечная мю диф =  1987.2258194752894\n"
     ]
    }
   ],
   "source": [
    "k, b, t, t1 = LeastSquares([i[0] for i in ferrit[-4:]], [i[1] for i in ferrit[-4:]])\n",
    "print(\"конечная мю диф = \", k / mu_0)\n"
   ]
  },
  {
   "cell_type": "code",
   "execution_count": 209,
   "metadata": {},
   "outputs": [
    {
     "name": "stdout",
     "output_type": "stream",
     "text": [
      "max мю диф =  2047.4379488899556\n"
     ]
    }
   ],
   "source": [
    "k, b, t, t1 = LeastSquares([i[0] for i in ferrit[4:12]], [i[1] for i in ferrit[4:12]])\n",
    "print(\"max мю диф = \", k / mu_0)"
   ]
  },
  {
   "cell_type": "code",
   "execution_count": 210,
   "metadata": {},
   "outputs": [],
   "source": [
    "feni_raw_1 = [(43, 12), (38, 11), (34, 11), (30, 10), (20, 10)]\n",
    "feni_raw_2 = [(19, 19), (11, 19), (7, 16)]\n",
    "\n",
    "feni_ = [get_point(i[0], i[1], 0.01, \"feni\") for i in feni_raw_1]\n",
    "for i in feni_raw_2:\n",
    "  feni_.append(get_point(i[0], i[1], 0.005, \"feni\"))\n",
    "\n",
    "feni = []\n",
    "for i in feni_:\n",
    "  feni.append((-i[0], -i[1]))\n",
    "  feni.append(i)"
   ]
  },
  {
   "cell_type": "code",
   "execution_count": 211,
   "metadata": {},
   "outputs": [
    {
     "name": "stderr",
     "output_type": "stream",
     "text": [
      "/tmp/ipykernel_1471/3171148134.py:10: UserWarning: No artists with labels found to put in legend.  Note that artists whose label start with an underscore are ignored when legend() is called with no argument.\n",
      "  plt.legend()\n"
     ]
    },
    {
     "data": {
      "image/png": "[encoded data removed]",
      "text/plain": [
       "<Figure size 640x480 with 1 Axes>"
      ]
     },
     "metadata": {},
     "output_type": "display_data"
    }
   ],
   "source": [
    "#plt.style.use('ggplot')\n",
    "plt.figure()\n",
    "plt.title(\"B(H), Fe-Ni\")\n",
    "plt.xlabel(\"H, А/м\")\n",
    "plt.ylabel(\"B, Тл\")\n",
    "\n",
    "plt.grid(True, linestyle=\"--\")\n",
    "plt.errorbar([i[0] for i in feni], [i[1] for i in feni], fmt=\".k\")\n",
    "\n",
    "plt.legend()\n",
    "plt.show()\n",
    "\n",
    "feni = feni[0:9]"
   ]
  },
  {
   "cell_type": "code",
   "execution_count": 212,
   "metadata": {},
   "outputs": [
    {
     "name": "stdout",
     "output_type": "stream",
     "text": [
      "конечная мю диф =  694.8721218903698\n"
     ]
    }
   ],
   "source": [
    "k, b, t, t1 = LeastSquares([i[0] for i in feni[4:]], [i[1] for i in feni[4:]])\n",
    "print(\"конечная мю диф = \", k / mu_0)"
   ]
  },
  {
   "cell_type": "code",
   "execution_count": 213,
   "metadata": {},
   "outputs": [
    {
     "name": "stdout",
     "output_type": "stream",
     "text": [
      "max мю диф =  579.2398653883859\n"
     ]
    }
   ],
   "source": [
    "k, b, t, t1 = LeastSquares([i[0] for i in feni[:4]], [i[1] for i in feni[:4]])\n",
    "print(\"max мю диф = \", k / mu_0)"
   ]
  },
  {
   "cell_type": "code",
   "execution_count": 214,
   "metadata": {},
   "outputs": [],
   "source": [
    "fesi_raw_1 = [(48, 14), (41, 12), (31, 10), (20, 8)]\n",
    "fesi_raw_2 = [(42, 16), (31, 11), (28, 9), (12, 4)]\n",
    "\n",
    "fesi_ = [get_point(i[0], i[1], 0.05, \"fesi\") for i in fesi_raw_1]\n",
    "for i in fesi_raw_2:\n",
    "  fesi_.append(get_point(i[0], i[1], 0.02, \"fesi\"))\n",
    "\n",
    "fesi = []\n",
    "for i in fesi_:\n",
    "  fesi.append((-i[0], -i[1]))\n",
    "  fesi.append(i)"
   ]
  },
  {
   "cell_type": "code",
   "execution_count": 215,
   "metadata": {},
   "outputs": [
    {
     "name": "stderr",
     "output_type": "stream",
     "text": [
      "/tmp/ipykernel_1471/1225608693.py:10: UserWarning: No artists with labels found to put in legend.  Note that artists whose label start with an underscore are ignored when legend() is called with no argument.\n",
      "  plt.legend()\n"
     ]
    },
    {
     "data": {
      "image/png": "[encoded data removed]",
      "text/plain": [
       "<Figure size 640x480 with 1 Axes>"
      ]
     },
     "metadata": {},
     "output_type": "display_data"
    }
   ],
   "source": [
    "# plt.style.use('ggplot')\n",
    "plt.figure()\n",
    "plt.title(\"B(H), Fe-Si\")\n",
    "plt.xlabel(\"H, А/м\")\n",
    "plt.ylabel(\"B, Тл\")\n",
    "\n",
    "plt.grid(True, linestyle=\"--\")\n",
    "plt.errorbar([i[0] for i in fesi], [i[1] for i in fesi], fmt=\"^\")\n",
    "\n",
    "plt.legend()\n",
    "plt.show()"
   ]
  }
 ],
 "metadata": {
  "kernelspec": {
   "display_name": "Python 3",
   "language": "python",
   "name": "python3"
  },
  "language_info": {
   "codemirror_mode": {
    "name": "ipython",
    "version": 3
   },
   "file_extension": ".py",
   "mimetype": "text/x-python",
   "name": "python",
   "nbconvert_exporter": "python",
   "pygments_lexer": "ipython3",
   "version": "3.12.6"
  }
 },
 "nbformat": 4,
 "nbformat_minor": 2
}
